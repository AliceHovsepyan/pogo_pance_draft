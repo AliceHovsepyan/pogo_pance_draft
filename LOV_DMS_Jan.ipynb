{
 "cells": [
  {
   "cell_type": "code",
   "execution_count": 8,
   "metadata": {},
   "outputs": [],
   "source": [
    "#import all da nice stuff\n",
    "import os\n",
    "from Bio.SeqIO import QualityIO\n",
    "import numpy as np\n",
    "from matplotlib import pyplot as plt\n",
    "import matplotlib.cm as cm\n",
    "import gzip\n",
    "import glob\n",
    "import re\n",
    "from DMS_utils import dna_rev_comp, translate_dna2aa\n",
    "import pysam\n",
    "import pandas as pd\n",
    "import seaborn as sns\n",
    "import pickle as pkl\n",
    "import matplotlib.colors as mcolors\n",
    "from scipy import stats\n",
    "import os.path\n",
    "import shutil"
   ]
  },
  {
   "cell_type": "code",
   "execution_count": 9,
   "metadata": {},
   "outputs": [],
   "source": [
    "base_dir = os.getcwd() \n",
    "amplicon = \"RRMEAINESSGLATTLERIEKNFVITDPRLPDNPIIFASDSFLQLTEYSREEILGRNCRFLQGPETDRATVRKIRDAIDNQTEVTVQLINYTKSGKKFWNLFHLQPMRDQKGDVQYFIGVQLDGTEHVRDAAEREGVMLIKKTAENIDEAAKGSLHPPMDNRV\"\n",
    "amplicon_DNA = 'CGCCGCATGGAAGCGATTAACGAAAGCAGCGGTTTAGCCACAACGCTGGAACGCATTGAAAAGAATTTCGTAATCACAGACCCGCGCCTTCCCGACAATCCAATTATTTTTGCGTCCGATAGCTTCCTGCAATTAACCGAATACAGCCGCGAAGAAATTCTGGGTCGTAATTGTCGCTTCCTTCAGGGGCCAGAGACTGACCGTGCTACGGTACGCAAAATCCGCGACGCAATCGACAATCAAACGGAAGTCACGGTTCAGTTGATTAACTATACGAAGAGCGGAAAAAAATTCTGGAATTTATTTCACTTGCAGCCTATGCGTGACCAGAAGGGCGATGTCCAGTATTTCATTGGCGTTCAGCTTGATGGTACCGAGCATGTTCGCGATGCTGCGGAGCGTGAAGGTGTAATGTTAATTAAAAAGACTGCTGAAAACATTGATGAGGCGGCCAAAGGGAGCCTGCATCCGCCGATGGATAACCGCGTG'\n",
    "LOV = \"LATTLERIEKNFVITDPRLPDNPIIFASDSFLQLTEYSREEILGRNCRFLQGPETDRATVRKIRDAIDNQTEVTVQLINYTKSGKKFWNLFHLQPMRDQKGDVQYFIGVQLDGTEHVRDAAEREGVMLIKKTAENIDEAAK\"\n",
    "catch_left = 'AAGCAGCGGT'\n",
    "catch_right = 'GGGAGCCTGC'\n",
    "offset_left = 3\n",
    "offset_right=5\n",
    "\n",
    "genetic_code = {\n",
    "  'ATA': 'I', 'ATC': 'I', 'ATT': 'I', 'ATG': 'M',\n",
    "  'ACA': 'T', 'ACC': 'T', 'ACG': 'T', 'ACT': 'T',\n",
    "  'AAC': 'N', 'AAT': 'N', 'AAA': 'K', 'AAG': 'K',\n",
    "  'AGC': 'S', 'AGT': 'S', 'AGA': 'R', 'AGG': 'R',\n",
    "  'CTA': 'L', 'CTC': 'L', 'CTG': 'L', 'CTT': 'L',\n",
    "  'CCA': 'P', 'CCC': 'P', 'CCG': 'P', 'CCT': 'P',\n",
    "  'CAC': 'H', 'CAT': 'H', 'CAA': 'Q', 'CAG': 'Q',\n",
    "  'CGA': 'R', 'CGC': 'R', 'CGG': 'R', 'CGT': 'R',\n",
    "  'GTA': 'V', 'GTC': 'V', 'GTG': 'V', 'GTT': 'V',\n",
    "  'GCA': 'A', 'GCC': 'A', 'GCG': 'A', 'GCT': 'A',\n",
    "  'GAC': 'D', 'GAT': 'D', 'GAA': 'E', 'GAG': 'E',\n",
    "  'GGA': 'G', 'GGC': 'G', 'GGG': 'G', 'GGT': 'G',\n",
    "  'TCA': 'S', 'TCC': 'S', 'TCG': 'S', 'TCT': 'S',\n",
    "  'TTC': 'F', 'TTT': 'F', 'TTA': 'L', 'TTG': 'L',\n",
    "  'TAC': 'Y', 'TAT': 'Y', 'TAA': '*', 'TAG': '*',\n",
    "  'TGC': 'C', 'TGT': 'C', 'TGA': '*', 'TGG': 'W',\n",
    "}\n",
    "\n",
    "\n",
    "quality_score = {\n",
    "  '!':0, '\"':1, '#':2, '$':3, '%':4, '&':5, \"'\":6, '(':7, ')':8, '*':9,\n",
    "  '+':10, ',':11, '-':12, '.':13, '/':14, '0':15, '1':16, '2':17, '3':18, '4':19,\n",
    "  '5':20, '6':21, '7':22, '8':23, '9':24, ':':25, ';':26, '<':27, '=':28, '>':29,\n",
    "  '?':30, '@':31, 'A':32, 'B':33, 'C':34, 'D':35, 'E':36, 'F':37, 'G':38, 'H':39, 'I':40\n",
    "}"
   ]
  },
  {
   "cell_type": "code",
   "execution_count": 10,
   "metadata": {},
   "outputs": [
    {
     "data": {
      "text/plain": [
       "489"
      ]
     },
     "execution_count": 10,
     "metadata": {},
     "output_type": "execute_result"
    }
   ],
   "source": [
    "len(amplicon_DNA)"
   ]
  },
  {
   "attachments": {},
   "cell_type": "markdown",
   "metadata": {},
   "source": [
    "# Functions"
   ]
  },
  {
   "cell_type": "code",
   "execution_count": 11,
   "metadata": {},
   "outputs": [],
   "source": [
    "def normalize_data(variants):\n",
    "    #normalize data to read counts\n",
    "    fractions_dict = {}\n",
    "    for key, value in variants.items():\n",
    "        for idx, wt in enumerate(variants[key].columns.str[0]):\n",
    "            variants[key].loc[wt][idx] = variants[key].loc[wt][idx] - variants[key].loc['wt'][idx]\n",
    "        sum_calls = value.sum()-value.loc['wt']\n",
    "        print(f'Minimum coverage of mutated position: {min(sum_calls)}')\n",
    "        fractions_dict[key] = value/(value.sum()-value.loc['wt'])\n",
    "        variants[key].drop('N16', axis=1, inplace=True)\n",
    "        fractions_dict[key].drop('N16', axis=1, inplace=True)\n",
    "        fractions_dict[key].drop('wt', axis=0, inplace=True)\n",
    "    return fractions_dict\n",
    "\n",
    "def normalize_to_input(variants_fractions, initial_lib):\n",
    "    for key, value in variants_fractions.items():\n",
    "        if key != initial_lib:\n",
    "            variants_fractions[key] = variants_fractions[key]/variants_fractions[initial_lib]\n",
    "            variants_fractions[key] = np.log2(variants_fractions[key])\n",
    "            variants_fractions[key].replace([np.inf, -np.inf], np.nan, inplace=True)\n",
    "    return variants_fractions\n",
    "\n",
    "def r(x, y):\n",
    "    return stats.spearmanr(x, y)\n",
    "\n",
    "def correlation_plot(data, combination):\n",
    "    plt.figure(figsize=(5,5))\n",
    "    plt.rcParams['axes.linewidth'] = 2\n",
    "    plt.rcParams['axes.linewidth'] = 2\n",
    "    g = sns.regplot(y=data[:,0], x=data[:,1], color='grey', ci=None, \n",
    "        scatter_kws={'alpha':.6, 'linewidth':0}, line_kws={\"linewidth\":0, \n",
    "        'label':f\"Spearman's r: {round(r(data[~np.isnan(data).any(axis=1),:][:,0], data[~np.isnan(data).any(axis=1),:][:,1])[0], 2)}\"})\n",
    "    plt.xlabel('Log2 enrichment rep-1')\n",
    "    plt.ylabel('Log2 enrichment rep-2')\n",
    "    plt.xlim(data[~np.isnan(data).any(axis=1),:].min().min()-.5, data[~np.isnan(data).any(axis=1),:].max().max() +.5)\n",
    "    plt.ylim(data[~np.isnan(data).any(axis=1),:].min().min()-.5, data[~np.isnan(data).any(axis=1),:].max().max() +.5)\n",
    "    sns.despine()\n",
    "    g.tick_params(width=2)\n",
    "    g.legend(frameon=False, loc='upper right')\n",
    "    plt.title(f\"{combination}\", y=1.03)\n",
    "    #plt.savefig(f\"{fig_folder}/correlation_{combination}_{property}.svg\")\n",
    "\n",
    "def library_coverage(data, name):\n",
    "    #process data\n",
    "    AA_order = ['A','I','L','M','F','W','Y','V','S','T','N','Q','R','H','K','D','E','C','G','P','*']\n",
    "    data = data.loc[AA_order]\n",
    "    mask = data.isnull()\n",
    "\n",
    "    plt.figure(figsize=(5,5))\n",
    "    ax = sns.heatmap(data=data, cmap='mako', cbar_kws={'label': f\"Read counts\"}, square=True, mask=mask)\n",
    "    plt.title(name)\n",
    "    for _, spine in ax.spines.items():\n",
    "        spine.set_visible(True)\n",
    "        spine.set_linewidth(2)\n",
    "    ax.yaxis.set_tick_params(width=2)\n",
    "    ax.xaxis.set_tick_params(width=2)\n",
    "    #plt.savefig(f\"{fig_folder}/feature_correlation_{name}.svg\", bbox_inches=\"tight\")\n",
    "    plt.show()\n",
    "    plt.close()\n",
    "\n",
    "map = sns.diverging_palette(10, 260, s=100, l=30, as_cmap=True)\n",
    "def mutation_enrichment(data, name):\n",
    "    #process data\n",
    "    AA_order = ['A','I','L','M','F','W','Y','V','S','T','N','Q','R','H','K','D','E','C','G','P','*']\n",
    "    data = data.loc[AA_order]\n",
    "    mask = data.isnull()\n",
    "\n",
    "    #center colorbar\n",
    "    vcenter = 0\n",
    "    vmin, vmax = data.min().min(), data.max().max()\n",
    "    normalize = mcolors.TwoSlopeNorm(vcenter=0.01, vmin=0, vmax=0.1)\n",
    "\n",
    "    plt.figure(figsize=(24,4))\n",
    "    ax = sns.heatmap(data=data, cmap='viridis', cbar_kws={'label': f\"counts\"}, square=True, norm=normalize, mask=mask)\n",
    "    plt.title(name)\n",
    "    for _, spine in ax.spines.items():\n",
    "        spine.set_visible(True)\n",
    "        spine.set_linewidth(2)\n",
    "    ax.yaxis.set_tick_params(width=2)\n",
    "    ax.xaxis.set_tick_params(width=2)\n",
    "    #plt.savefig(f\"{fig_folder}/feature_correlation_{name}.svg\", bbox_inches=\"tight\")\n",
    "    plt.show()\n",
    "    plt.close()\n",
    "\n",
    "def correlation_light_dark(dark, light, name, x_name='Light', y_name='Dark'):\n",
    "    light_dark = pd.DataFrame(np.column_stack([dark.stack(dropna=False).to_list(),\n",
    "                                    light.stack(dropna=False).to_list()]), columns=['Dark', 'Light'])\n",
    "    stop_codons = pd.DataFrame(np.column_stack([dark.loc['*'].to_list(),\n",
    "                                light.loc['*'].to_list()]), columns=['Dark', 'Light'])\n",
    "    #light_dark = light_dark.iloc[1:-1,:]\n",
    "    sns.set(font_scale = 1)\n",
    "    sns.set_style(\"ticks\", rc={'font.family':'sans-serif', 'font.sans-serif':'Droid Sans'})\n",
    "    plt.figure(figsize=(5,5))\n",
    "    plt.rcParams['axes.linewidth'] = 2\n",
    "    ax = sns.scatterplot(data=light_dark, x='Light', y='Dark', color='grey', alpha=.4, linewidth=0, legend=False)\n",
    "    ax1 = sns.scatterplot(data=stop_codons, x='Light', y='Dark', color='red', alpha=1, linewidth=0, legend=False)\n",
    "    plt.xlabel(f\"{x_name} log2 enriched read counts\")\n",
    "    plt.ylabel(f\"{y_name} log2 enriched read counts\")\n",
    "    plt.xlim(light_dark.min().min()-1, light_dark.max().max() +1)\n",
    "    plt.ylim(light_dark.min().min()-1, light_dark.max().max() +1)\n",
    "    sns.despine()\n",
    "    plt.axvline(0, 1,0, color='black', linewidth=2)\n",
    "    plt.axhline(0, 1,0, color='black', linewidth=2)\n",
    "    plt.title(f\"{name} light vs dark\")\n",
    "    ax.yaxis.set_tick_params(width=2)\n",
    "    ax.xaxis.set_tick_params(width=2)\n",
    "\n"
   ]
  },
  {
   "cell_type": "code",
   "execution_count": 7,
   "metadata": {},
   "outputs": [],
   "source": [
    "def find(string, value_list):\n",
    "    indexes = [string.find(letter) for letter in value_list]\n",
    "    try: \n",
    "        ind = min([index for index in indexes if index != -1])\n",
    "    except:\n",
    "        ind = 250\n",
    "    return ind\n",
    "\n",
    "def read_sequences(file):\n",
    "    \"\"\"\n",
    "    read sequences from fastq files while filtering for quality score (read is aborted at first nt with higher error rate than 1%)\n",
    "    returns list of sequences\n",
    "    \"\"\"\n",
    "    sequences = []\n",
    "    a_sequences = []\n",
    "    b_sequences = []\n",
    "    y=0\n",
    "    quality_score = ['!', '\"', '#', '$', '%', '&', \"'\", '(', ')', '*','+', ',', '-', '.', '/', '0', '1', '2', '3', '4', '5']\n",
    "    with open(f'{base_dir}/data/fastq/{file}_R1_001.fastq', \"rt\") as a_file, open(f'{base_dir}/data/fastq/{file}_R2_001.fastq', \"rt\") as b_file:\n",
    "        a_reader = QualityIO.FastqGeneralIterator(a_file)\n",
    "        b_reader = QualityIO.FastqGeneralIterator(b_file)\n",
    "        for total_read, (a, b) in enumerate(zip(a_reader, b_reader)):\n",
    "                #if y < 10000:\n",
    "                a_id, a_seq, a_qual = a\n",
    "                b_id, b_seq, b_qual = b\n",
    "                cutoff_a = find(a_qual, quality_score)\n",
    "                cutoff_b = find(b_qual, quality_score)\n",
    "                a_sequences.append(a_seq[:cutoff_a])\n",
    "                b_sequences.append(b_seq[:cutoff_b])\n",
    "                \n",
    "                y+=1\n",
    "                #else: \n",
    "                #    break\n",
    "        print(\"total reads\", total_read)\n",
    "    return a_sequences, b_sequences\n",
    "\n",
    "def gather_variants(a_seq, b_seq, DNA, insert_pos=0):\n",
    "    \"\"\"\n",
    "    returns a dictionary with the counts of each amino acid at each position\n",
    "    \"\"\"\n",
    "    mutation_dict = {}\n",
    "    undefined = 0\n",
    "    counter = 0\n",
    "    catch_length = len(catch_left)\n",
    "    gene_len = len(LOV)*3\n",
    "    stops = 0\n",
    "    \n",
    "    for idx in range(len(LOV)):\n",
    "        mutation_dict[idx] = {'A':0, 'C':0, 'D':0, 'E':0, 'F':0, 'G':0, \n",
    "                                                'H':0, 'I':0, 'K':0, 'L':0, 'M':0, 'N':0, \n",
    "                                                'P':0, 'Q':0, 'R':0, 'S':0, 'T':0, 'V':0, \n",
    "                                                'W':0, 'Y':0, '*':0, 'wt':0}\n",
    "    for a_seq, b_seq in zip(a_seq, b_seq):\n",
    "        \n",
    "        counter +=1\n",
    "        if counter%100000 == 0:\n",
    "            print(counter)\n",
    "        if catch_left in a_seq:\n",
    "            index = a_seq.index(catch_left) + catch_length\n",
    "            gene_a = a_seq[index:]\n",
    "            tr_a = translate_dna2aa(gene_a)\n",
    "            for idx, pos in enumerate(tr_a):\n",
    "                mutation_dict[idx][pos] += 1\n",
    "        if dna_rev_comp(catch_right) in b_seq:\n",
    "            index = b_seq.index(dna_rev_comp(catch_right)) + catch_length\n",
    "            gene_b = dna_rev_comp(b_seq[index:(len(b_seq)-index)//3*3+index])\n",
    "            tr_b = translate_dna2aa(gene_b)\n",
    "            tr_b = tr_b[::-1]\n",
    "            for idx, pos in enumerate(tr_b):\n",
    "                mutation_dict[len(LOV)-idx-1][pos] += 1\n",
    "\n",
    "    return mutation_dict\n",
    "\n",
    "\n",
    "def process_reads(variant, AA_sequence, DNA):\n",
    "    variants_dict = {}\n",
    "    path = f'{base_dir}/data/fastq'\n",
    "    filenames = glob.glob(f'{path}/*')\n",
    "    # if os.path.isfile(f'{path}/{variant}_variants.pickle'):\n",
    "    #     with open(f'{path}/{variant}_variants.pickle', 'rb') as f:\n",
    "    #         variants_dict = pkl.load(f)\n",
    "    # else:\n",
    "    for name in filenames: \n",
    "        if '_R1' in name:\n",
    "            name = name.split('/')[-1].split('_R')[0]\n",
    "            peptide_length = len(AA_sequence)\n",
    "            length = len(AA_sequence) * 3\n",
    "            flank_len = 10\n",
    "            #process sequences\n",
    "            sequences = []\n",
    "            results = []\n",
    "            f1 = name\n",
    "            a_seq, b_seq = read_sequences(f1)\n",
    "            variants_dict[name] = gather_variants(a_seq, b_seq, amplicon, DNA)\n",
    "            print(f'Done: {name}')\n",
    "\n",
    "        with open(f'{path}/{variant}_variants.pickle', 'wb') as handle:\n",
    "            pkl.dump(variants_dict, handle)\n",
    "    return variants_dict\n"
   ]
  },
  {
   "attachments": {},
   "cell_type": "markdown",
   "metadata": {},
   "source": [
    "# AraC analysis"
   ]
  },
  {
   "cell_type": "code",
   "execution_count": 22,
   "metadata": {},
   "outputs": [
    {
     "name": "stdout",
     "output_type": "stream",
     "text": [
      "total reads 59258\n",
      "Done: DP6\n",
      "total reads 47232\n",
      "Done: RL8\n",
      "total reads 48195\n",
      "Done: RL1\n"
     ]
    }
   ],
   "source": [
    "DP6_variants = process_reads('DP6', amplicon, amplicon_DNA)\n",
    "DP6_variants['RL1'] = pd.DataFrame.from_dict(DP6_variants['RL1'])\n",
    "DP6_variants['DP6'] = pd.DataFrame.from_dict(DP6_variants['DP6'])"
   ]
  },
  {
   "cell_type": "code",
   "execution_count": 35,
   "metadata": {},
   "outputs": [
    {
     "name": "stdout",
     "output_type": "stream",
     "text": [
      "total reads 59258\n"
     ]
    },
    {
     "name": "stdout",
     "output_type": "stream",
     "text": [
      "total reads 59258\n",
      "Done: DP6\n",
      "total reads 47232\n",
      "Done: RL8\n",
      "total reads 48195\n",
      "Done: RL1\n"
     ]
    }
   ],
   "source": [
    "DP6_seq = read_sequences(\"DP6\")\n",
    "DP6_vars = process_reads(\"DP6\", amplicon, amplicon_DNA)\n"
   ]
  },
  {
   "cell_type": "code",
   "execution_count": 17,
   "metadata": {},
   "outputs": [
    {
     "data": {
      "image/png": "[encoded data removed]",
      "text/plain": [
       "<Figure size 640x480 with 1 Axes>"
      ]
     },
     "metadata": {},
     "output_type": "display_data"
    }
   ],
   "source": [
    "ax = sns.barplot(DP6_variants[\"DP6\"].sum())\n",
    "plt.xticks([0,20,40,60,80,100,120,140])\n",
    "plt.show()\n"
   ]
  },
  {
   "cell_type": "markdown",
   "metadata": {},
   "source": [
    "### NOTE that the quality score cutoff is set to a 1 % error rate"
   ]
  },
  {
   "cell_type": "code",
   "execution_count": 18,
   "metadata": {},
   "outputs": [],
   "source": [
    "DP6_variants['DP6'] = DP6_variants['DP6'].iloc[:,:70]"
   ]
  },
  {
   "cell_type": "code",
   "execution_count": 19,
   "metadata": {},
   "outputs": [
    {
     "name": "stdout",
     "output_type": "stream",
     "text": [
      "The illumina paired reads cover on average 88.0 % of the LOV sequence\n",
      "The mutation rate is estimated to be 0.9 mutations per sequence\n",
      "If we correct for the coverag, we expect a mutation rate of 0.97 mutations per sequence\n"
     ]
    }
   ],
   "source": [
    "coverage = DP6_variants['DP6'].sum().sum()/(DP6_variants['DP6'].max().max()*DP6_variants['DP6'].shape[1])*100\n",
    "print(f'The illumina paired reads cover on average {coverage.round(1)} % of the LOV sequence')\n",
    "\n",
    "mut_rate = DP6_variants['DP6'].max()/DP6_variants['DP6'].sum()-1\n",
    "mut_rate = abs(mut_rate.sum())\n",
    "print(f'The mutation rate is estimated to be {mut_rate.round(1)} mutations per sequence')\n",
    "print(f'If we correct for the coverag, we expect a mutation rate of {round(mut_rate/coverage*100,2)} mutations per sequence')"
   ]
  },
  {
   "cell_type": "code",
   "execution_count": 21,
   "metadata": {},
   "outputs": [
    {
     "data": {
      "image/png": "[encoded data removed]",
      "text/plain": [
       "<Figure size 2400x400 with 2 Axes>"
      ]
     },
     "metadata": {},
     "output_type": "display_data"
    }
   ],
   "source": [
    "DP6_relative = DP6_variants['DP6']/DP6_variants['DP6'].sum()\n",
    "mutation_enrichment(DP6_relative, 'DP6')"
   ]
  }
 ],
 "metadata": {
  "kernelspec": {
   "display_name": "Python 3",
   "language": "python",
   "name": "python3"
  },
  "language_info": {
   "codemirror_mode": {
    "name": "ipython",
    "version": 3
   },
   "file_extension": ".py",
   "mimetype": "text/x-python",
   "name": "python",
   "nbconvert_exporter": "python",
   "pygments_lexer": "ipython3",
   "version": "3.10.15"
  },
  "vscode": {
   "interpreter": {
    "hash": "039b150e2a501b43cb42c0bb6f96961eb02ac0d168d7989199fe3219f1545794"
   }
  }
 },
 "nbformat": 4,
 "nbformat_minor": 2
}
