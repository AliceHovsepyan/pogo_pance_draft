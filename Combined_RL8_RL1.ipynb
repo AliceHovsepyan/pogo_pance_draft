{
 "cells": [
  {
   "cell_type": "code",
   "execution_count": 1,
   "metadata": {},
   "outputs": [],
   "source": [
    "import os\n",
    "from Bio.SeqIO import QualityIO\n",
    "import numpy as np\n",
    "from matplotlib import pyplot as plt\n",
    "import matplotlib.cm as cm\n",
    "import gzip\n",
    "import glob\n",
    "import re\n",
    "from DMS_utils import dna_rev_comp, translate_dna2aa\n",
    "import pandas as pd\n",
    "import seaborn as sns\n",
    "import pickle as pkl\n",
    "import matplotlib.colors as mcolors\n",
    "from scipy import stats\n",
    "import os.path\n",
    "from matplotlib.lines import Line2D\n",
    "import json\n",
    "import shutil\n",
    "#from evaluation_functions import *\n",
    "from functions_ import *\n",
    "from plotting import *\n",
    "from Bio import SeqIO\n",
    "import matplotlib.patches as patches\n",
    "from collections import Counter\n",
    "from Bio import SeqIO\n",
    "from Bio.Seq import Seq\n",
    "from Bio.SeqRecord import SeqRecord\n",
    "from characterization_from_blast_alignments import *"
   ]
  },
  {
   "cell_type": "code",
   "execution_count": 2,
   "metadata": {},
   "outputs": [],
   "source": [
    "## reload the evaluation functions\n",
    "from importlib import reload \n",
    "import plotting\n",
    "reload(plotting)\n",
    "from plotting import *\n",
    "import functions_\n",
    "reload(functions_)\n",
    "from functions_ import *"
   ]
  },
  {
   "cell_type": "code",
   "execution_count": 3,
   "metadata": {},
   "outputs": [],
   "source": [
    "### define the necessary variables\n",
    "\n",
    "base_dir = os.getcwd() \n",
    "\n",
    "catch_left = ''\n",
    "catch_right = ''\n",
    "\n",
    "Barcodes = {\"BC1_fwd\": \"CCC\", \n",
    "            \"BC1_rev\" : \"CCC\", \n",
    "            \"BC2_fwd\":\t\"AAA\",\n",
    "            \"BC2_rev\":\t\"AAA\", \n",
    "            \"BC3_fwd\":\t\"TTT\",\n",
    "            \"BC3_rev\":\t\"TTT\",}\n",
    "\n",
    "Primer_seq = {\"_fwd\": \"cgccgCATGGAAGCGAT\".upper(),\n",
    "              \"_rev\":\"cgcacgCGGTTATCCATCG\".upper()}\n",
    "\n",
    "Primer_out_of_triplets = {\"_fwd\": 0, \n",
    "                          \"_rev\": 2}\n",
    "amplicon_seq = \"cgccgcatggaagcgattaacgaaagcagcggtttagccacaacgctggaacgcattgaaaagaatttcgtaatcacagacccgcgccttcccgacaatccaattatttttgcgtccgatagcttcctgcaattaaccgaatacagccgcgaagaaattctgggtcgtaattgtcgcttccttcaggggccagagactgaccgtgctacggtacgcaaaatccgcgacgcaatcgacaatcaaacggaagtcacggttcagttgattaactatacgaagagcggaaaaaaattctggaatttatttcacttgcagcctatgcgtgaccagaagggcgatgtccagtatttcattggcgttcagcttgatggtaccgagcatgttcgcgatgctgcggagcgtgaaggtgtaatgttaattaaaaagactgctgaaaacattgatgaggcggccaaagggagcctgcatccgccgatggataaccgcgtgcg\".upper()\n",
    "\n",
    "amplicon_AA = \"RRMEAINESSGLATTLERIEKNFVITDPRLPDNPIIFASDSFLQLTEYSREEILGRNCRFLQGPETDRATVRKIRDAIDNQTEVTVQLINYTKSGKKFWNLFHLQPMRDQKGDVQYFIGVQLDGTEHVRDAAEREGVMLIKKTAENIDEAAKGSLHPPMDNRV\"\n",
    "\n",
    "LOV2_prot = \"LATTLERIEKNFVITDPRLPDNPIIFASDSFLQLTEYSREEILGRNCRFLQGPETDRATVRKIRDAIDNQTEVTVQLINYTKSGKKFWNLFHLQPMRDQKGDVQYFIGVQLDGTEHVRDAAEREGVMLIKKTAENIDEAAK\"\n",
    "\n",
    "LOV2_gene = \"ttagccacaacgctggaacgcattgaaaagaatttcgtaatcacagacccgcgccttcccgacaatccaattatttttgcgtccgatagcttcctgcaattaaccgaatacagccgcgaagaaattctgggtcgtaattgtcgcttccttcaggggccagagactgaccgtgctacggtacgcaaaatccgcgacgcaatcgacaatcaaacggaagtcacggttcagttgattaactatacgaagagcggaaaaaaattctggaatttatttcacttgcagcctatgcgtgaccagaagggcgatgtccagtatttcattggcgttcagcttgatggtaccgagcatgttcgcgatgctgcggagcgtgaaggtgtaatgttaattaaaaagactgctgaaaacattgatgaggcggccaaa\".upper()\n",
    "\n",
    "genetic_code = {\n",
    "  'ATA': 'I', 'ATC': 'I', 'ATT': 'I', 'ATG': 'M',\n",
    "  'ACA': 'T', 'ACC': 'T', 'ACG': 'T', 'ACT': 'T',\n",
    "  'AAC': 'N', 'AAT': 'N', 'AAA': 'K', 'AAG': 'K',\n",
    "  'AGC': 'S', 'AGT': 'S', 'AGA': 'R', 'AGG': 'R',\n",
    "  'CTA': 'L', 'CTC': 'L', 'CTG': 'L', 'CTT': 'L',\n",
    "  'CCA': 'P', 'CCC': 'P', 'CCG': 'P', 'CCT': 'P',\n",
    "  'CAC': 'H', 'CAT': 'H', 'CAA': 'Q', 'CAG': 'Q',\n",
    "  'CGA': 'R', 'CGC': 'R', 'CGG': 'R', 'CGT': 'R',\n",
    "  'GTA': 'V', 'GTC': 'V', 'GTG': 'V', 'GTT': 'V',\n",
    "  'GCA': 'A', 'GCC': 'A', 'GCG': 'A', 'GCT': 'A',\n",
    "  'GAC': 'D', 'GAT': 'D', 'GAA': 'E', 'GAG': 'E',\n",
    "  'GGA': 'G', 'GGC': 'G', 'GGG': 'G', 'GGT': 'G',\n",
    "  'TCA': 'S', 'TCC': 'S', 'TCG': 'S', 'TCT': 'S',\n",
    "  'TTC': 'F', 'TTT': 'F', 'TTA': 'L', 'TTG': 'L',\n",
    "  'TAC': 'Y', 'TAT': 'Y', 'TAA': '*', 'TAG': '*',\n",
    "  'TGC': 'C', 'TGT': 'C', 'TGA': '*', 'TGG': 'W',\n",
    "}\n",
    "\n",
    "codons = list(genetic_code.keys())\n",
    "\n",
    "\n",
    "quality_score = {\n",
    "  '!':0, '\"':1, '#':2, '$':3, '%':4, '&':5, \"'\":6, '(':7, ')':8, '*':9,\n",
    "  '+':10, ',':11, '-':12, '.':13, '/':14, '0':15, '1':16, '2':17, '3':18, '4':19,\n",
    "  '5':20, '6':21, '7':22, '8':23, '9':24, ':':25, ';':26, '<':27, '=':28, '>':29,\n",
    "  '?':30, '@':31, 'A':32, 'B':33, 'C':34, 'D':35, 'E':36, 'F':37, 'G':38, 'H':39, 'I':40\n",
    "}\n",
    "\n",
    "\n",
    "ecoli_pref = { ### codons used for retron library (RL8) construction\n",
    "            \"A\": 'GCG',\n",
    "            \"R\": 'CGT',\n",
    "            \"N\": 'AAC',\n",
    "            \"D\": 'GAT',\n",
    "            \"C\": 'TGC',\n",
    "            \"Q\": 'CAG',\n",
    "            \"E\": 'GAA',\n",
    "            \"G\": 'GGC',\n",
    "            \"H\": 'CAT',\n",
    "            \"I\": 'ATT',\n",
    "            \"L\": \"CTG\",\n",
    "            \"K\": 'AAA',\n",
    "            \"M\": 'ATG',\n",
    "            \"F\": \"TTT\",\n",
    "            \"P\": 'CCG',\n",
    "            \"S\": 'AGC',\n",
    "            \"T\": 'ACC',\n",
    "            \"W\": 'TGG',\n",
    "            \"Y\": \"TAT\",\n",
    "            \"V\": 'GTG',\n",
    "}"
   ]
  },
  {
   "cell_type": "code",
   "execution_count": 4,
   "metadata": {},
   "outputs": [],
   "source": [
    "variant = \"R36\"\n",
    "BCs_per_var = {\"R35\": [\"BC1\", \"BC2\"],\n",
    "               \"R36\": [\"BC1\", \"BC2\", \"BC3\"],\n",
    "               }"
   ]
  },
  {
   "cell_type": "code",
   "execution_count": 186,
   "metadata": {},
   "outputs": [
    {
     "name": "stdout",
     "output_type": "stream",
     "text": [
      "total reads 85274\n",
      "[3, 5, 6, 11, 12, 14, 18, 20, 23, 24]\n",
      "41699\n",
      "2324 b reads are empty\n",
      "702 a reads are empty\n",
      "34446 forward reads with matching BC and primer seq\n",
      "15012 reads with index swapping\n",
      "BC1  34446 reads before filtering\n",
      "################# Done: BC1 \n",
      "################# Done: BC1\n",
      "[0, 1, 2, 4, 7, 8, 9, 10, 15, 17]\n",
      "26509\n",
      "1951 b reads are empty\n",
      "209 a reads are empty\n",
      "21158 forward reads with matching BC and primer seq\n",
      "13269 reads with index swapping\n",
      "BC2  21158 reads before filtering\n",
      "################# Done: BC2 \n",
      "################# Done: BC2\n",
      "[13, 16, 19, 21, 22, 31, 41, 44, 56, 71]\n",
      "11759\n",
      "852 b reads are empty\n",
      "85 a reads are empty\n",
      "8452 forward reads with matching BC and primer seq\n",
      "7610 reads with index swapping\n",
      "BC3  8452 reads before filtering\n",
      "################# Done: BC3 \n",
      "################# Done: BC3\n"
     ]
    }
   ],
   "source": [
    "\n",
    "### make sure to run the second code chunk before this one, since the primer dict could have been updated during analysis of the repeated seq run of S2, S3\n",
    "remove_read_qualities = ['!', '\"', '#', '$', '%', '&', \"'\", '(', ')', '*','+', ',', '-', '.', '/', '0', '1', '2', '3', '4', '5']\n",
    "#remove_read_qualities =['!', '\"', '#', '$', '%', '&', \"'\", '(', ')', '*', '+', ',', '-',] \n",
    "#remove_read_qualities =['!', '\"', '#', '$', '%', '&', \"'\", '(', ')', '*', '+', ',', '-', '.', '/']\n",
    "ref_gene = amplicon_seq\n",
    "\n",
    "used_BCs = BCs_per_var[variant]\n",
    "\n",
    "filter_for_n_mut = False# True\n",
    "read_len_treshold = None#(40,40)\n",
    "\n",
    "## variant 4\n",
    "a_seq, b_seq, _, _, a_ids, b_ids = read_sequences(variant = variant, arbitrary_cutoff_a = False, arbitrary_cutoff_b = False, catch_left=catch_left, catch_right=catch_right, return_qualities_ids=True, quality_score=remove_read_qualities, base_dir = f\"{os.getcwd()}/data/fastq/{variant}\"\n",
    ")\n",
    "\n",
    "all_reads, all_ids = demultiplex_reads(a_seq, b_seq, ref_gene = ref_gene ,Barcodes=Barcodes, Primer_seq=Primer_seq, used_Barcodes = used_BCs, Sections = [\"\"], max_mismatch_primerseq = 5, filter_for_n_mut = filter_for_n_mut, n_mut_treshold = 10, a_ids=a_ids, b_ids=b_ids,  read_len_treshold= read_len_treshold, Primer_out_of_triplets= Primer_out_of_triplets, cut_primer_start=True, cut_BC_seq=True)\n",
    "\n",
    "\n",
    "#### settings\n",
    "amplicon_DNA = amplicon_seq[:-2]\n",
    "amplicon_AA = translate_dna2aa(amplicon_DNA)\n",
    "\n",
    "### set parameters\n",
    "base_dir = os.getcwd()\n",
    "name = variant\n",
    "FigFolder =f\"{base_dir}/output/{name}/R1-R2\"\n",
    "use_rev_read = True\n",
    "use_forward_read = True\n",
    "arbitrary_cutoff_a = False\n",
    "arbitrary_cutoff_b = False\n",
    "\n",
    "if not os.path.exists(FigFolder):\n",
    "    os.makedirs(FigFolder)"
   ]
  },
  {
   "cell_type": "code",
   "execution_count": null,
   "metadata": {},
   "outputs": [],
   "source": [
    "# Bc = \"BC3\"\n",
    "# Read_dir = \"R2\"\n",
    "# seqs = all_reads[f\"{Bc}__{Read_dir}\"]\n",
    "# reads = all_reads[f\"{Bc}__{Read_dir}\"] if Read_dir == \"R1\" else [dna_rev_comp(r) for r in all_reads[f\"{Bc}__{Read_dir}\"]]\n",
    "\n",
    "# output_file = f\"data/fastq/{variant}/{variant}_{Bc}_Nt_filt_{Read_dir}_001.fasta\"\n",
    "# sequences = [SeqIO.SeqRecord(Seq(read), id = all_ids[f\"{Bc}__{Read_dir}\"][i], description = f\"{variant} {Bc} DNA sequence\") for i, read in enumerate(reads)]\n",
    "\n",
    "# count = SeqIO.write(sequences, output_file, \"fasta\")\n",
    "# with open(output_file, \"w\") as output_handle:\n",
    "#     SeqIO.write(sequences, output_handle, \"fasta\")\n",
    "# print(\"Saved %i records to %s\" % (count, output_file))"
   ]
  },
  {
   "cell_type": "code",
   "execution_count": 187,
   "metadata": {},
   "outputs": [
    {
     "name": "stdout",
     "output_type": "stream",
     "text": [
      "same BC:  64083\n",
      "idx swapping BC:  21191\n",
      "0.24850481975748762  of reads have swapped BCs\n"
     ]
    }
   ],
   "source": [
    "same_bc = 0\n",
    "diff_bc = 0\n",
    "for idx, a_read in enumerate(a_seq): \n",
    "    if a_read[:3] == b_seq[idx][:3] and a_read[:3] != \"\":\n",
    "        same_bc += 1  \n",
    "    else: \n",
    "        diff_bc += 1\n",
    "        \n",
    "print(\"same BC: \", same_bc)\n",
    "print(\"idx swapping BC: \", diff_bc)\n",
    "print(diff_bc/(same_bc+diff_bc), \" of reads have swapped BCs\") #0.23862062377609017 0.24850481975748762"
   ]
  },
  {
   "cell_type": "code",
   "execution_count": 218,
   "metadata": {},
   "outputs": [],
   "source": [
    "a_seq = all_reads[\"BC1__R1\"]\n",
    "b_seq = all_reads[\"BC1__R2\"]"
   ]
  },
  {
   "cell_type": "code",
   "execution_count": 8,
   "metadata": {},
   "outputs": [
    {
     "name": "stdout",
     "output_type": "stream",
     "text": [
      "<class 'dict'>\n"
     ]
    }
   ],
   "source": [
    "import json\n",
    "\n",
    "Bc = \"BC1\"\n",
    "read_dir = \"R2\"\n",
    "variant = \"R36\"\n",
    "homedir = \"/home/student/anna/DMS_analysis/data/fastq/R36/\"\n",
    "base_dir = os.getcwd()\n",
    "\n",
    "# Open the JSON file and load it as a dictionary\n",
    "with open(f\"{homedir}/blast/alignments/{variant}_{Bc}_S1_Nt_filt_{read_dir}.out\", \"r\") as file:\n",
    "    blast_output = json.load(file)\n",
    "\n",
    "# Now 'data' is a Python dictionary\n",
    "print(type(blast_output))  # Should output: <class 'dict'>\n",
    "\n",
    "with open(f\"{homedir}/config.json\") as f:\n",
    "    config = json.load(f)\n",
    "\n",
    "###########\n",
    "read_dir = \"R1\"\n",
    "\n",
    "FigFolder = f\"{base_dir}/output/x/\"#{variant}/blast/\"\n",
    "if not os.path.exists(FigFolder):\n",
    "    os.makedirs(FigFolder)\n",
    "\n",
    "amplicon_seq = config[\"amplicon\"]\n",
    "\n",
    "blast_alignments = blast_output[\"BlastOutput2\"][0][\"report\"][\"results\"][\"search\"][\"hits\"].copy()\n",
    "#LOV_startseq = \"ttagcca\".upper()\n",
    "#LOV_endseq = \"ggccaaa\".upper()\n",
    "\n",
    "### \n",
    "LOV_startseq = \"gggagcctgcatcc\".upper() ### GSLHP (left side after linker)\n",
    "\n",
    "LOV2_prot = \"LATTLERIEKNFVITDPRLPDNPIIFASDSFLQLTEYSREEILGRNCRFLQGPETDRATVRKIRDAIDNQTEVTVQLINYTKSGKKFWNLFHLQPMRDQKGDVQYFIGVQLDGTEHVRDAAEREGVMLIKKTAENIDEAAK\"\n",
    "\n",
    "LOV2_gene = \"ttagccacaacgctggaacgcattgaaaagaatttcgtaatcacagacccgcgccttcccgacaatccaattatttttgcgtccgatagcttcctgcaattaaccgaatacagccgcgaagaaattctgggtcgtaattgtcgcttccttcaggggccagagactgaccgtgctacggtacgcaaaatccgcgacgcaatcgacaatcaaacggaagtcacggttcagttgattaactatacgaagagcggaaaaaaattctggaatttatttcacttgcagcctatgcgtgaccagaagggcgatgtccagtatttcattggcgttcagcttgatggtaccgagcatgttcgcgatgctgcggagcgtgaaggtgtaatgttaattaaaaagactgctgaaaacattgatgaggcggccaaa\".upper()\n",
    "\n",
    "\n",
    "\n",
    "LOV2_startidx = amplicon_seq.index(LOV_startseq)\n",
    "#LOV2_endidx = amplicon_seq.index(LOV_endseq) + len(LOV_endseq)\n"
   ]
  },
  {
   "cell_type": "code",
   "execution_count": 9,
   "metadata": {},
   "outputs": [
    {
     "name": "stdout",
     "output_type": "stream",
     "text": [
      "28417 alignments before filtering for LOV2 insertion site\n",
      "16469 alignments after filtering for LOV2 insertion site\n"
     ]
    }
   ],
   "source": [
    "### filter blast alignments for regions that include LOV2 start site (include 10 nucleotides before and after the LOV2 start site)\n",
    "print(len(blast_alignments), \"alignments before filtering for LOV2 insertion site\")\n",
    "\n",
    "#strand = blast_alignments[0][\"hsps\"][0][\"hit_strand\"] # \"Minus\" or \"Plus\"\n",
    "filter_for_region = LOV2_startidx if read_dir==\"R1\" else LOV2_endidx \n",
    "\n",
    "\n",
    "blast_alignments = [alignment for alignment in blast_alignments if alignment[\"hsps\"][0][\"query_from\"] <= filter_for_region-10 and alignment[\"hsps\"][0][\"query_to\"] >= filter_for_region+10]\n",
    "print(len(blast_alignments), \"alignments after filtering for LOV2 insertion site\")\n"
   ]
  },
  {
   "cell_type": "code",
   "execution_count": 10,
   "metadata": {},
   "outputs": [
    {
     "name": "stdout",
     "output_type": "stream",
     "text": [
      "GGGAGCCTGCATCC\n",
      "3012 sequences are excluded, since LOV2 start site could not be found in the ref (due to '-' i.e. insertions at the start of LOV2)\n"
     ]
    }
   ],
   "source": [
    "cut_site_seq = LOV_startseq if read_dir==\"R1\" else LOV_endseq\n",
    "\n",
    "print(LOV_startseq)\n",
    "linker_alignments, LOV2_alignments = divide_alignments(blast_alignments, cut_site_seq, read_dir=read_dir)\n",
    "    "
   ]
  },
  {
   "cell_type": "code",
   "execution_count": 20,
   "metadata": {},
   "outputs": [
    {
     "name": "stdout",
     "output_type": "stream",
     "text": [
      "3257 sequences with off target indels are excluded\n",
      "10200 sequences are included in the enrichment analysis\n"
     ]
    },
    {
     "data": {
      "text/plain": [
       "<Figure size 640x480 with 0 Axes>"
      ]
     },
     "metadata": {},
     "output_type": "display_data"
    },
    {
     "data": {
      "image/png": "[encoded data removed]",
      "text/plain": [
       "<Figure size 3000x1000 with 2 Axes>"
      ]
     },
     "metadata": {},
     "output_type": "display_data"
    }
   ],
   "source": [
    "data_type = \"AA\"\n",
    "AraC_right = \"GGGAGCCTGCATCCGCCGATGGATAACCGCGTG\"\n",
    "all_variants, indels_freq,  enrichment_counts, enrichment_relative = characterize_DMS_blast_alignment(LOV2_alignments, AraC_right, data_type=data_type,read_dir=read_dir)\n",
    "\n",
    "### BC1\n",
    "if data_type == \"AA\":\n",
    "    annot_ref = LOV2_prot[:enrichment_relative.shape[1]] if read_dir == \"R1\" else LOV2_prot[-enrichment_relative.shape[1]:]\n",
    "if data_type == \"DNA\":\n",
    "    annot_ref = LOV2_gene[:enrichment_relative.shape[1]] if read_dir == \"R1\" else LOV2_gene[-enrichment_relative.shape[1]:]\n",
    "\n",
    "plot_mutation_enrichment(enrichment_relative, ref_seq=annot_ref, samplename=f\"{variant}_{Bc}_{read_dir}\", data_type=data_type, FigFolder=FigFolder, vmax=None)"
   ]
  },
  {
   "cell_type": "code",
   "execution_count": 21,
   "metadata": {},
   "outputs": [
    {
     "data": {
      "text/plain": [
       "<Figure size 640x480 with 0 Axes>"
      ]
     },
     "metadata": {},
     "output_type": "display_data"
    },
    {
     "data": {
      "image/png": "[encoded data removed]",
      "text/plain": [
       "<Figure size 2000x1000 with 1 Axes>"
      ]
     },
     "metadata": {},
     "output_type": "display_data"
    }
   ],
   "source": [
    "plt.figure(figsize=(20,10))\n",
    "plt.bar(indels_freq.columns, indels_freq.loc[\"insertion\"]*100, color = \"blue\", alpha = 0.5, label = \"insertions\")\n",
    "plt.bar(indels_freq.columns, indels_freq.loc[\"deletion\"]*100, color = \"orange\", alpha = 0.5, label = \"deletions\")\n",
    "plt.legend()\n",
    "if read_dir == \"R1\":\n",
    "    plt.xlim(0,250)\n",
    "else: \n",
    "    plt.xlim(200,len(LOV2_gene))\n",
    "plt.ylabel(\"Frequency (%)\")\n",
    "plt.xlabel(\"Position in LOV2 gene\")\n",
    "plt.savefig(f\"{FigFolder}/{variant}_{Bc}_{read_dir}_indel_distribution.pdf\", bbox_inches=\"tight\")\n",
    "plt.show()"
   ]
  },
  {
   "cell_type": "code",
   "execution_count": 41,
   "metadata": {},
   "outputs": [],
   "source": [
    "# enrichment_relative_BC1 = enrichment_relative_1.copy()\n",
    "# enrichment_relative_BC2 = enrichment_relative.copy()\n",
    "# enrichment_BC2_vs_BC1 = enrichment_relative_BC2 - enrichment_relative_BC1\n",
    "\n",
    "# plot_mutation_enrichment(variants_df=enrichment_BC2_vs_BC1, ref_seq=LOV2_prot[:enrichment_df.shape[1]], cmap = \"coolwarm\")"
   ]
  },
  {
   "cell_type": "code",
   "execution_count": 71,
   "metadata": {},
   "outputs": [],
   "source": [
    "\n",
    "\n",
    "def get_linker_variants_from_blast_alignment(linker_alignments, wt_linker = \"SG\", read_dir = \"R1\"):\n",
    "    \"\"\"\n",
    "    Function to characterize linker variants from the blast alignments\n",
    "\n",
    "    args: \n",
    "    linker_alignments: dict, with the blast algined sequences (hseq, qseq) of the linker\n",
    "    wt_linker: str, the wildtype linker AA sequence \n",
    "    read_dir: str, \"R1\" or \"R2\"\n",
    "\n",
    "    returns:\n",
    "    linkers: dict, with the counts of the linker variants\n",
    "\n",
    "    \"\"\"\n",
    "\n",
    "    frameshifts = 0\n",
    "    linkers = {}\n",
    "\n",
    "    for x in linker_alignments.values():\n",
    "        qseq = x[\"qseq\"][-30:]\n",
    "        hseq = x[\"hseq\"][-30:]\n",
    "\n",
    "        ##### Exclude frameshift reads \n",
    "        if (qseq.count(\"-\") - hseq.count(\"-\")) %3 != 0: #qseq.count(\"-\") != 0 or hseq.count(\"-\") % 3 != 0:  \n",
    "            # Insertions (shown as \"-\" in ref) and deletions that sum up to not multiple of three lead to frameshifts -> exclude these reads\n",
    "            frameshifts += 1\n",
    "\n",
    "        ##### WT sequences\n",
    "        elif qseq == hseq:  # WT linkers with differences in the rest of the sequence are taken into account below\n",
    "            linkers[\"wt\"] = linkers.get(\"wt\", 0) + 1\n",
    "\n",
    "        ##### Reads with deletions \n",
    "        elif hseq.count(\"-\") > 0 and hseq.count(\"-\") % 3 == 0:  # Deletions that are multiple of 3, not leading to frameshifts\n",
    "            # if hseq.count(\"-\") == 3:  \n",
    "            #     # 3 deletions represent substitution of SG linker by a single AA, here we might also get some noise, due to sequencing errors that lead to deletions of 3 Nts but this is acceptable\n",
    "            #     hseq_filt = re.sub(\"-\", \"\", hseq)\n",
    "            #     if read_dir == \"R2\": \n",
    "            #         linker = translate_dna2aa(hseq_filt)[:len(wt_linker)-1]  # Linker shortened by 3 Nts = 1 AA\n",
    "            #     else: \n",
    "            #         linker = translate_dna2aa(hseq_filt)[-len(wt_linker)+1:]  # Linker shortened by 3 Nts = 1 AA\n",
    "\n",
    "            #     linkers[linker] = linkers.get(linker, 0) + 1\n",
    "\n",
    "            # Deletions in the linker region\n",
    "            del_count = hseq.count(\"-\") \n",
    "            delname = \"del-\" + str(del_count)\n",
    "            linkers[delname] = linkers.get(delname, 0) + 1\n",
    "\n",
    "        ###### Reads with substitutions \n",
    "        elif qseq.count(\"-\") == 0:  # Linker was substituted, but no deletions or insertions present\n",
    "            if read_dir == \"R2\":\n",
    "                if hseq[:len(wt_linker) * 3] == qseq[:len(wt_linker) * 3]:\n",
    "                    linkers[\"wt\"] = linkers.get(\"wt\", 0) + 1\n",
    "                else: \n",
    "                    linker = translate_dna2aa(hseq)[:len(wt_linker)]\n",
    "                    linkers[linker] = linkers.get(linker, 0) + 1\n",
    "            else: \n",
    "                if hseq[-len(wt_linker) * 3:] == qseq[-len(wt_linker) * 3:]:  \n",
    "                    # WT linker (but differences in the rest (e.g beginning) of the sequence, thus these did not meet the first criterion)\n",
    "                    linkers[\"wt\"] = linkers.get(\"wt\", 0) + 1\n",
    "                else: \n",
    "                    \n",
    "                    linker = translate_dna2aa(hseq)[-len(wt_linker):]\n",
    "                    linkers[linker] = linkers.get(linker, 0) + 1\n",
    "\n",
    "        ###### Reads with insertions\n",
    "        elif qseq.count(\"-\") > 0:\n",
    "            insertion_len = qseq.count(\"-\") // 3  # AA level\n",
    "            if read_dir == \"R2\": \n",
    "                linker = translate_dna2aa(hseq)[:len(wt_linker) + insertion_len]\n",
    "                linkers[linker] = linkers.get(linker, 0) + 1\n",
    "            else: \n",
    "                linker = translate_dna2aa(hseq)[-len(wt_linker) - insertion_len:]\n",
    "                linkers[linker] = linkers.get(linker, 0) + 1\n",
    "\n",
    "        #### All other reads\n",
    "        else:\n",
    "            print(\"sequence\", hseq, \"does not meet any criteria\")\n",
    "\n",
    "    print(frameshifts, \"reads excluded due to frameshifts\")\n",
    "\n",
    "    return linkers"
   ]
  },
  {
   "cell_type": "code",
   "execution_count": 72,
   "metadata": {},
   "outputs": [
    {
     "name": "stdout",
     "output_type": "stream",
     "text": [
      "137 reads excluded due to frameshifts\n"
     ]
    }
   ],
   "source": [
    "linkers = get_linker_variants_from_blast_alignment(linker_alignments,wt_linker =\"IDEAAK\",read_dir=read_dir)"
   ]
  },
  {
   "cell_type": "code",
   "execution_count": 70,
   "metadata": {},
   "outputs": [
    {
     "name": "stdout",
     "output_type": "stream",
     "text": [
      "137 reads excluded due to frameshifts\n"
     ]
    }
   ],
   "source": [
    "linkers = get_linker_variants_from_blast_alignment(linker_alignments,wt_linker = \"SG\" if read_dir==\"R1\" else \"GS\",read_dir=read_dir)"
   ]
  },
  {
   "cell_type": "code",
   "execution_count": 73,
   "metadata": {},
   "outputs": [],
   "source": [
    "## sort linkers by frequency\n",
    "\n",
    "linkers_sorted = {k: v for k, v in sorted(linkers.items(), key=lambda item: item[1], reverse=True)}\n",
    "total_reads = sum(linkers_sorted.values())\n",
    "linkers_sorted_perc = {k: v/total_reads*100 for k, v in linkers_sorted.items()}\n",
    "\n",
    "# exclude wt: \n",
    "linkers_sorted_perc.pop(\"wt\")\n",
    "linkers_perc_filt = {k: v for k, v in linkers_sorted_perc.items() if v > 0.05}"
   ]
  },
  {
   "cell_type": "code",
   "execution_count": 74,
   "metadata": {},
   "outputs": [
    {
     "data": {
      "text/plain": [
       "4.459459459459459"
      ]
     },
     "execution_count": 74,
     "metadata": {},
     "output_type": "execute_result"
    }
   ],
   "source": [
    "sum(linkers_perc_filt.values())"
   ]
  },
  {
   "cell_type": "code",
   "execution_count": 75,
   "metadata": {},
   "outputs": [
    {
     "data": {
      "image/png": "[encoded data removed]",
      "text/plain": [
       "<Figure size 1500x500 with 1 Axes>"
      ]
     },
     "metadata": {},
     "output_type": "display_data"
    }
   ],
   "source": [
    "fig, ax = plt.subplots(1, 1, figsize=(15, 5))\n",
    "plt.bar(linkers_perc_filt.keys(), linkers_perc_filt.values())\n",
    "plt.xticks(rotation=90)\n",
    "plt.ylabel(\"Percentage of reads\")\n",
    "plt.text(0.9, 0.93, f\"Total mutation rate: {round(sum(linkers_perc_filt.values()),3)}\", horizontalalignment='center', verticalalignment='center', transform=ax.transAxes)\n",
    "plt.savefig(f\"{FigFolder}/{variant}_{Bc}_{read_dir}_linker_distribution.pdf\", bbox_inches=\"tight\")\n",
    "plt.show()"
   ]
  },
  {
   "cell_type": "code",
   "execution_count": 92,
   "metadata": {},
   "outputs": [],
   "source": [
    "linker_variants_perc = pd.DataFrame.from_dict(linkers_perc_filt, orient = \"index\").T\n",
    "linker_variants_perc.index =[  \"observed\"]"
   ]
  },
  {
   "cell_type": "code",
   "execution_count": 93,
   "metadata": {},
   "outputs": [],
   "source": [
    "linker_variants_perc.to_csv(f\"{FigFolder}/{variant}_{Bc}_{read_dir}_linker_distribution.csv\")"
   ]
  }
 ],
 "metadata": {
  "kernelspec": {
   "display_name": "DMS-analysis",
   "language": "python",
   "name": "python3"
  },
  "language_info": {
   "codemirror_mode": {
    "name": "ipython",
    "version": 3
   },
   "file_extension": ".py",
   "mimetype": "text/x-python",
   "name": "python",
   "nbconvert_exporter": "python",
   "pygments_lexer": "ipython3",
   "version": "3.10.16"
  }
 },
 "nbformat": 4,
 "nbformat_minor": 2
}
