{
 "cells": [
  {
   "cell_type": "markdown",
   "metadata": {},
   "source": [
    "### Analysis of Indel Recombitron data \n"
   ]
  },
  {
   "cell_type": "code",
   "execution_count": 1,
   "metadata": {},
   "outputs": [],
   "source": [
    "import os\n",
    "from Bio.SeqIO import QualityIO\n",
    "import numpy as np\n",
    "from matplotlib import pyplot as plt\n",
    "import matplotlib.cm as cm\n",
    "import gzip\n",
    "import glob\n",
    "import re\n",
    "from DMS_utils import dna_rev_comp, translate_dna2aa\n",
    "import pysam\n",
    "import pandas as pd\n",
    "import seaborn as sns\n",
    "import pickle as pkl\n",
    "import matplotlib.colors as mcolors\n",
    "from scipy import stats\n",
    "import os.path\n",
    "from matplotlib.lines import Line2D\n",
    "import json\n",
    "import shutil"
   ]
  },
  {
   "cell_type": "code",
   "execution_count": null,
   "metadata": {},
   "outputs": [],
   "source": [
    "### first, we need to run CRISPResso2 on the data to get the indel frequencies ###\n",
    "# we use the linker positions (retrons are constructed to create indels only at these sites) to represent \"Cas9 cut sites\" --> even though we dont use the Cas9 system, our system induces similar patterns in the sequences, thus we can perform the same analysis whereby the linker sequence represent the guide RNA\n",
    "# the command (in the command line) is for instance:\n",
    "\n",
    "#### for the forward read only (only first 150 positions of the LOV gene (+beginning of amplicon))\n",
    "\n",
    "# CRISPResso --fastq_r1 RL1_R1_001.fastq --amplicon_seq CGCCGCATGGAAGCGATTAACGAAAGCAGCGGTTTAGCCACAACGCTGGAACGCATTGAAAAGAATTTCGTAATCACAGACCCGCGCCTTCCCGACAATCCAATTATTTTTGCGTCCGATAGCTTCCTGCAATTAACCGAATACAGCCGCGAAGAAATTCTGGGTCGTAATTGTCGCTTCCTT -n RL1-R1_crispresso_result --guide_seq GAAGCGATTAACGAAAGCAGCGGT --cleavage_offset 0 --amplicon_min_alignment_score 50 --min_average_read_quality 20 --min_bp_quality_or_N 20  --offset_around_cut_to_plot 25 --window_around_sgrna 10  --min_frequency_alleles_around_cut_to_plot 0.0001 --needleman_wunsch_gap_incentive -20 --needleman_wunsch_gap_extend 0\n",
    "\n",
    "\n",
    "#### for both (R1 and R2), however due to low coverage, many reads are not aligned well enough and thus excluded from the analysis\n",
    "\n",
    "# CRISPResso --fastq_r1 RL1_R1_001.fastq --fastq_r2 RL1_R2_001.fastq --amplicon_seq CGCCGCATGGAAGCGATTAACGAAAGCAGCGGTTTAGCCACAACGCTGGAACGCATTGAAAAGAATTTCGTAATCACAGACCCGCGCCTTCCCGACAATCCAATTATTTTTGCGTCCGATAGCTTCCTGCAATTAACCGAATACAGCCGCGAAGAAATTCTGGGTCGTAATTGTCGCTTCCTTCAGGGGCCAGAGACTGACCGTGCTACGGTACGCAAAATCCGCGACGCAATCGACAATCAAACGGAAGTCACGGTTCAGTTGATTAACTATACGAAGAGCGGAAAAAAATTCTGGAATTTATTTCACTTGCAGCCTATGCGTGACCAGAAGGGCGATGTCCAGTATTTCATTGGCGTTCAGCTTGATGGTACCGAGCATGTTCGCGATGCTGCGGAGCGTGAAGGTGTAATGTTAATTAAAAAGACTGCTGAAAACATTGATGAAGCGGCCAAAGGGAGCCTGCATCCGCCGATGGATAACCGCGTG -n RL1_crispresso_result --guide_seq GAAGCGATTAACGAAAGCAGCGGT,TGAAAACATTGATGAAGCGGCCAAA --cleavage_offset 0"
   ]
  },
  {
   "cell_type": "code",
   "execution_count": 7,
   "metadata": {},
   "outputs": [],
   "source": [
    "### define the necessary variables\n",
    "\n",
    "base_dir = os.getcwd() \n",
    "amplicon = \"RRMEAINESSGLATTLERIEKNFVITDPRLPDNPIIFASDSFLQLTEYSREEILGRNCRFLQGPETDRATVRKIRDAIDNQTEVTVQLINYTKSGKKFWNLFHLQPMRDQKGDVQYFIGVQLDGTEHVRDAAEREGVMLIKKTAENIDEAAKGSLHPPMDNRV\"\n",
    "\n",
    "amplicon_DNA = 'CGCCGCATGGAAGCGATTAACGAAAGCAGCGGTTTAGCCACAACGCTGGAACGCATTGAAAAGAATTTCGTAATCACAGACCCGCGCCTTCCCGACAATCCAATTATTTTTGCGTCCGATAGCTTCCTGCAATTAACCGAATACAGCCGCGAAGAAATTCTGGGTCGTAATTGTCGCTTCCTTCAGGGGCCAGAGACTGACCGTGCTACGGTACGCAAAATCCGCGACGCAATCGACAATCAAACGGAAGTCACGGTTCAGTTGATTAACTATACGAAGAGCGGAAAAAAATTCTGGAATTTATTTCACTTGCAGCCTATGCGTGACCAGAAGGGCGATGTCCAGTATTTCATTGGCGTTCAGCTTGATGGTACCGAGCATGTTCGCGATGCTGCGGAGCGTGAAGGTGTAATGTTAATTAAAAAGACTGCTGAAAACATTGATGAGGCGGCCAAAGGGAGCCTGCATCCGCCGATGGATAACCGCGTG'\n",
    "\n",
    "amplicon_DNA_corrected = 'CGCCGCATGGAAGCGATTAACGAAAGCAGCGGTTTAGCCACAACGCTGGAACGCATTGAAAAGAATTTCGTAATCACAGACCCGCGCCTTCCCGACAATCCAATTATTTTTGCGTCCGATAGCTTCCTGCAATTAACCGAATACAGCCGCGAAGAAATTCTGGGTCGTAATTGTCGCTTCCTTCAGGGGCCAGAGACTGACCGTGCTACGGTACGCAAAATCCGCGACGCAATCGACAATCAAACGGAAGTCACGGTTCAGTTGATTAACTATACGAAGAGCGGAAAAAAATTCTGGAATTTATTTCACTTGCAGCCTATGCGTGACCAGAAGGGCGATGTCCAGTATTTCATTGGCGTTCAGCTTGATGGTACCGAGCATGTTCGCGATGCTGCGGAGCGTGAAGGTGTAATGTTAATTAAAAAGACTGCTGAAAACATTGATGAAGCGGCCAAAGGGAGCCTGCATCCGCCGATGGATAACCGCGTG'## since all the sequenced reads have an \"A\" instead of \"G\" at the 413th position of the LOV2 gene, we correct the sequence here\n",
    "\n",
    "amplicon_start = \"CGCCGCATGGAAGCGATTAACGAAAGCAGCGGT\"\n",
    "amplicon_end = \"GGGAGCCTGCATCCGCCGATGGATAACCGCGTG\"\n",
    "LOV_gene_end = \"ACATTGATGAAGCGGCCAAA\"\n",
    "\n",
    "LOV_gene = \"TTAGCCACAACGCTGGAACGCATTGAAAAGAATTTCGTAATCACAGACCCGCGCCTTCCCGACAATCCAATTATTTTTGCGTCCGATAGCTTCCTGCAATTAACCGAATACAGCCGCGAAGAAATTCTGGGTCGTAATTGTCGCTTCCTTCAGGGGCCAGAGACTGACCGTGCTACGGTACGCAAAATCCGCGACGCAATCGACAATCAAACGGAAGTCACGGTTCAGTTGATTAACTATACGAAGAGCGGAAAAAAATTCTGGAATTTATTTCACTTGCAGCCTATGCGTGACCAGAAGGGCGATGTCCAGTATTTCATTGGCGTTCAGCTTGATGGTACCGAGCATGTTCGCGATGCTGCGGAGCGTGAAGGTGTAATGTTAATTAAAAAGACTGCTGAAAACATTGATGAGGCGGCCAAA\"\n",
    "\n",
    "LOV_gene_corrected = 'TTAGCCACAACGCTGGAACGCATTGAAAAGAATTTCGTAATCACAGACCCGCGCCTTCCCGACAATCCAATTATTTTTGCGTCCGATAGCTTCCTGCAATTAACCGAATACAGCCGCGAAGAAATTCTGGGTCGTAATTGTCGCTTCCTTCAGGGGCCAGAGACTGACCGTGCTACGGTACGCAAAATCCGCGACGCAATCGACAATCAAACGGAAGTCACGGTTCAGTTGATTAACTATACGAAGAGCGGAAAAAAATTCTGGAATTTATTTCACTTGCAGCCTATGCGTGACCAGAAGGGCGATGTCCAGTATTTCATTGGCGTTCAGCTTGATGGTACCGAGCATGTTCGCGATGCTGCGGAGCGTGAAGGTGTAATGTTAATTAAAAAGACTGCTGAAAACATTGATGAAGCGGCCAAA' ## since all the sequenced reads have an \"A\" instead of \"G\" at the 413th position, we correct the sequence here\n",
    "\n",
    "LOV = \"LATTLERIEKNFVITDPRLPDNPIIFASDSFLQLTEYSREEILGRNCRFLQGPETDRATVRKIRDAIDNQTEVTVQLINYTKSGKKFWNLFHLQPMRDQKGDVQYFIGVQLDGTEHVRDAAEREGVMLIKKTAENIDEAAK\"\n",
    "\n",
    "gene_len = len(LOV)*3\n",
    "catch_left = 'AAGCAGCGGT'\n",
    "catch_right = 'GGGAGCCTGC'\n",
    "offset_left = 3\n",
    "offset_right= 5\n",
    "\n",
    "genetic_code = {\n",
    "  'ATA': 'I', 'ATC': 'I', 'ATT': 'I', 'ATG': 'M',\n",
    "  'ACA': 'T', 'ACC': 'T', 'ACG': 'T', 'ACT': 'T',\n",
    "  'AAC': 'N', 'AAT': 'N', 'AAA': 'K', 'AAG': 'K',\n",
    "  'AGC': 'S', 'AGT': 'S', 'AGA': 'R', 'AGG': 'R',\n",
    "  'CTA': 'L', 'CTC': 'L', 'CTG': 'L', 'CTT': 'L',\n",
    "  'CCA': 'P', 'CCC': 'P', 'CCG': 'P', 'CCT': 'P',\n",
    "  'CAC': 'H', 'CAT': 'H', 'CAA': 'Q', 'CAG': 'Q',\n",
    "  'CGA': 'R', 'CGC': 'R', 'CGG': 'R', 'CGT': 'R',\n",
    "  'GTA': 'V', 'GTC': 'V', 'GTG': 'V', 'GTT': 'V',\n",
    "  'GCA': 'A', 'GCC': 'A', 'GCG': 'A', 'GCT': 'A',\n",
    "  'GAC': 'D', 'GAT': 'D', 'GAA': 'E', 'GAG': 'E',\n",
    "  'GGA': 'G', 'GGC': 'G', 'GGG': 'G', 'GGT': 'G',\n",
    "  'TCA': 'S', 'TCC': 'S', 'TCG': 'S', 'TCT': 'S',\n",
    "  'TTC': 'F', 'TTT': 'F', 'TTA': 'L', 'TTG': 'L',\n",
    "  'TAC': 'Y', 'TAT': 'Y', 'TAA': '*', 'TAG': '*',\n",
    "  'TGC': 'C', 'TGT': 'C', 'TGA': '*', 'TGG': 'W',\n",
    "}\n",
    "\n",
    "codons = list(genetic_code.keys())\n",
    "\n",
    "\n",
    "quality_score = {\n",
    "  '!':0, '\"':1, '#':2, '$':3, '%':4, '&':5, \"'\":6, '(':7, ')':8, '*':9,\n",
    "  '+':10, ',':11, '-':12, '.':13, '/':14, '0':15, '1':16, '2':17, '3':18, '4':19,\n",
    "  '5':20, '6':21, '7':22, '8':23, '9':24, ':':25, ';':26, '<':27, '=':28, '>':29,\n",
    "  '?':30, '@':31, 'A':32, 'B':33, 'C':34, 'D':35, 'E':36, 'F':37, 'G':38, 'H':39, 'I':40\n",
    "}\n",
    "\n",
    "\n",
    "ecoli_pref = { ### codons used for retron library (RL8) construction\n",
    "            \"A\": 'GCG',\n",
    "            \"R\": 'CGT',\n",
    "            \"N\": 'AAC',\n",
    "            \"D\": 'GAT',\n",
    "            \"C\": 'TGC',\n",
    "            \"Q\": 'CAG',\n",
    "            \"E\": 'GAA',\n",
    "            \"G\": 'GGC',\n",
    "            \"H\": 'CAT',\n",
    "            \"I\": 'ATT',\n",
    "            \"L\": \"CTG\",\n",
    "            \"K\": 'AAA',\n",
    "            \"M\": 'ATG',\n",
    "            \"F\": \"TTT\",\n",
    "            \"P\": 'CCG',\n",
    "            \"S\": 'AGC',\n",
    "            \"T\": 'ACC',\n",
    "            \"W\": 'TGG',\n",
    "            \"Y\": \"TAT\",\n",
    "            \"V\": 'GTG',\n",
    "}"
   ]
  },
  {
   "cell_type": "code",
   "execution_count": 227,
   "metadata": {},
   "outputs": [],
   "source": [
    "insertions = [#\"X\",\n",
    "   #\"GG\",\n",
    "   # \"PP\",\n",
    "    #\"GXG\"\n",
    "    \"GGSG\",\n",
    "    \"GSGG\",\n",
    "    \"GPPG\",\n",
    "    \"GSGSG\",\n",
    "    \"GPPPG\",\n",
    "    \"GSGGSG\",\n",
    "    \"GPPPPG\"] +[\"G\"+x+\"G\" for x in ecoli_pref.keys()] # + \"GXG\" AAs ## !!! \"X\" insertions are not included here\n",
    "\n"
   ]
  },
  {
   "cell_type": "code",
   "execution_count": 228,
   "metadata": {},
   "outputs": [],
   "source": [
    "insertion_codons = {insertion : \"\".join([ecoli_pref[Aa] for Aa in insertion]) for insertion in insertions }\n",
    "subst = {'GG': 'GGCGGC',\n",
    " 'PP': 'CCGCCG'}\n",
    "deletions = {\"del1\": \"-\"*9, # deletion of SG + deletion of the AA in front = total of 9 nucleotides\n",
    "             \"del2\": \"-\"*12,\n",
    "             \"del3\": \"-\"*15,}"
   ]
  },
  {
   "cell_type": "code",
   "execution_count": 196,
   "metadata": {},
   "outputs": [],
   "source": [
    "## import data set from CRISPResso2 analysis\n",
    "\n",
    "Allele_frequency = pd.read_csv(\"data/fastq/CRISPResso_on_RL1-R1_crispresso_result/Alleles_frequency_table_around_sgRNA_GAAGCGATTAACGAAAGCAGCGGT.txt\", sep = \"\\t\")\n",
    "# filter for alleles with a frequency > 0.01\n",
    "Allele_frequency = Allele_frequency[Allele_frequency[\"%Reads\"] > 0.1]"
   ]
  },
  {
   "cell_type": "code",
   "execution_count": 261,
   "metadata": {},
   "outputs": [
    {
     "name": "stdout",
     "output_type": "stream",
     "text": [
      "intended X substitutions 20\n",
      "unintended X substitutions 0\n"
     ]
    }
   ],
   "source": [
    "indel_codons_count = {}\n",
    "\n",
    "## in a few cases, four deletions but one insertion is defined, for which we think the read is wrongly aligned and which is only a deletion of 3 nucleotides with a mutation\n",
    "## thus we combine # insertion - # deletion to define the size difference to the reference seq\n",
    "Allele_frequency[\"size_diff\"] =  Allele_frequency[\"n_inserted\"] - Allele_frequency[\"n_deleted\"]\n",
    "\n",
    "# we now move all deletions to the end of the read \n",
    "## first we cut all the reads at the beginning of the LOV gene, thereby only keeping the linker sequence\n",
    "LOV2_start = Allele_frequency.iloc[0,0].find(\"TTAGCCAC\")\n",
    "Allele_frequency[\"linker_seq\"] = Allele_frequency.iloc[:,0].apply(lambda x: x[:LOV2_start])\n",
    "## now we move all deletions to the end of the read\n",
    "Allele_frequency[\"linker_sequence\"] =  Allele_frequency.loc[:,\"linker_seq\"].apply(lambda x: x.replace(\"-\",\"\")) + [\"-\"*-x for x in Allele_frequency[\"size_diff\"]]\n",
    "\n",
    "linker_sequences_freq = Allele_frequency[[\"linker_sequence\", \"%Reads\", \"size_diff\"]] \n",
    "\n",
    "### indel counts: \n",
    "## we can not count \"X\" indels directly, since these codons are present anyways in the reference sequence, thus we first need to select for deletion size = 3 \n",
    "linker_reads_indelX = linker_sequences_freq[[seq.count(\"-\") == 3 for seq in linker_sequences_freq[\"linker_sequence\"]]].copy()\n",
    "linker_reads_indelX[\"indelX\"] = [seq[-6:-3] for seq in linker_reads_indelX[\"linker_sequence\"]]\n",
    "for idx, indel_codon in enumerate(linker_reads_indelX[\"indelX\"]):\n",
    "    indel_codons_count[indel_codon] = linker_reads_indelX.iloc[idx,1]\n",
    "\n",
    "print(\"intended X substitutions\", sum([x in ecoli_pref.values() for x in linker_reads_indelX[\"indelX\"]])) \n",
    "print(\"unintended X substitutions\", sum([x not in ecoli_pref.values() for x in linker_reads_indelX[\"indelX\"]])) ## test whether these X subst were intended (i.e. they are part of our e coli references) --> = 0 so we can count them as intended X insertions\n",
    "\n",
    "\n",
    "##search for substitutions only (GG or PP instead of SG)\n",
    "linker_reads_subst = linker_sequences_freq[linker_sequences_freq[\"size_diff\"] == 0].copy()\n",
    "for codon in subst.values():\n",
    "    for idx,seq in enumerate(linker_reads_subst[\"linker_sequence\"]):\n",
    "        if codon in seq:\n",
    "            indel_codons_count[codon] = linker_reads_subst.iloc[idx,1]\n",
    "\n",
    "## search for indels\n",
    "linker_reads_indels = linker_sequences_freq[linker_sequences_freq[\"size_diff\"] >1].copy()\n",
    "\n",
    "for insertion_codon in insertion_codons.values():\n",
    "    for idx,seq in enumerate(linker_reads_indels[\"linker_sequence\"]):\n",
    "        if insertion_codon in seq:\n",
    "            indel_codons_count[insertion_codon] = linker_reads_indels.iloc[idx,1] \n",
    "\n",
    "\n",
    "# search for deletions\n",
    "linker_reads_deletions = linker_sequences_freq[linker_sequences_freq[\"size_diff\"] <-6].copy()\n",
    "\n",
    "for deletion in deletions.values():\n",
    "    for idx,seq in enumerate(linker_reads_deletions[\"linker_sequence\"]):\n",
    "        if deletion.count(\"-\") == seq.count(\"-\"):\n",
    "            indel_codons_count[deletion] = linker_reads_deletions.iloc[idx,1]"
   ]
  },
  {
   "cell_type": "code",
   "execution_count": 262,
   "metadata": {},
   "outputs": [
    {
     "data": {
      "text/html": [
       "<div>\n",
       "<style scoped>\n",
       "    .dataframe tbody tr th:only-of-type {\n",
       "        vertical-align: middle;\n",
       "    }\n",
       "\n",
       "    .dataframe tbody tr th {\n",
       "        vertical-align: top;\n",
       "    }\n",
       "\n",
       "    .dataframe thead th {\n",
       "        text-align: right;\n",
       "    }\n",
       "</style>\n",
       "<table border=\"1\" class=\"dataframe\">\n",
       "  <thead>\n",
       "    <tr style=\"text-align: right;\">\n",
       "      <th></th>\n",
       "      <th>linker_sequence</th>\n",
       "      <th>%Reads</th>\n",
       "      <th>size_diff</th>\n",
       "    </tr>\n",
       "  </thead>\n",
       "  <tbody>\n",
       "    <tr>\n",
       "      <th>41</th>\n",
       "      <td>GGAAGCGATTAAC------------</td>\n",
       "      <td>0.149744</td>\n",
       "      <td>-12</td>\n",
       "    </tr>\n",
       "    <tr>\n",
       "      <th>46</th>\n",
       "      <td>GGAAGCGATT---------------</td>\n",
       "      <td>0.123702</td>\n",
       "      <td>-15</td>\n",
       "    </tr>\n",
       "  </tbody>\n",
       "</table>\n",
       "</div>"
      ],
      "text/plain": [
       "              linker_sequence    %Reads  size_diff\n",
       "41  GGAAGCGATTAAC------------  0.149744        -12\n",
       "46  GGAAGCGATT---------------  0.123702        -15"
      ]
     },
     "execution_count": 262,
     "metadata": {},
     "output_type": "execute_result"
    }
   ],
   "source": [
    "linker_reads_deletions"
   ]
  },
  {
   "cell_type": "code",
   "execution_count": 251,
   "metadata": {},
   "outputs": [],
   "source": [
    "all_indels = {**insertion_codons, ** subst, ** deletions, ** ecoli_pref}"
   ]
  },
  {
   "cell_type": "code",
   "execution_count": 265,
   "metadata": {},
   "outputs": [],
   "source": [
    "indel_linker_count = {translate_dna2aa(indel) if \"-\" not in indel else indel: value for indel, value in indel_codons_count.items()}"
   ]
  },
  {
   "cell_type": "code",
   "execution_count": 266,
   "metadata": {},
   "outputs": [
    {
     "data": {
      "text/plain": [
       "{'Q': np.float64(0.3841270874702953),\n",
       " 'S': np.float64(0.3841270874702953),\n",
       " 'V': np.float64(0.3548292587649337),\n",
       " 'W': np.float64(0.3548292587649337),\n",
       " 'C': np.float64(0.3450633158631466),\n",
       " 'L': np.float64(0.3222761157589765),\n",
       " 'P': np.float64(0.3190208014583808),\n",
       " 'R': np.float64(0.3125101728571893),\n",
       " 'A': np.float64(0.3092548585565936),\n",
       " 'T': np.float64(0.3027442299554022),\n",
       " 'G': np.float64(0.2897229727530193),\n",
       " 'F': np.float64(0.2636804583482535),\n",
       " 'M': np.float64(0.2604251440476578),\n",
       " 'I': np.float64(0.2441485725446791),\n",
       " 'E': np.float64(0.2408932582440834),\n",
       " 'H': np.float64(0.2246166867411048),\n",
       " 'N': np.float64(0.2213613724405091),\n",
       " 'Y': np.float64(0.2083401152381262),\n",
       " 'D': np.float64(0.2050848009375305),\n",
       " 'K': np.float64(0.1725316579315733),\n",
       " 'GG': np.float64(0.2115954295387219),\n",
       " 'PP': np.float64(0.117191314821446),\n",
       " 'GPPPG': np.float64(0.117191314821446),\n",
       " 'GAG': np.float64(0.1562550864285946),\n",
       " 'GRG': np.float64(0.1334678863244246),\n",
       " 'GNG': np.float64(0.1464891435268075),\n",
       " 'GDG': np.float64(0.2376379439434877),\n",
       " 'GCG': np.float64(0.2213613724405091),\n",
       " 'GQG': np.float64(0.1497444578274032),\n",
       " 'GEG': np.float64(0.2148507438393176),\n",
       " 'GGG': np.float64(0.2115954295387219),\n",
       " 'GHG': np.float64(0.1692763436309775),\n",
       " 'GIG': np.float64(0.1627657150297861),\n",
       " 'GLG': np.float64(0.1529997721279989),\n",
       " 'GKG': np.float64(0.198574172336339),\n",
       " 'GMG': np.float64(0.1822976008333604),\n",
       " 'GFG': np.float64(0.139978514925616),\n",
       " 'GPG': np.float64(0.1497444578274032),\n",
       " 'GSG': np.float64(0.198574172336339),\n",
       " 'GTG': np.float64(0.1855529151339561),\n",
       " 'GWG': np.float64(0.2278720010417005),\n",
       " 'GYG': np.float64(0.2246166867411048),\n",
       " 'GVG': np.float64(0.2474038868452749),\n",
       " '------------': np.float64(0.1497444578274032),\n",
       " '---------------': np.float64(0.1237019434226374)}"
      ]
     },
     "execution_count": 266,
     "metadata": {},
     "output_type": "execute_result"
    }
   ],
   "source": [
    "indel_linker_count"
   ]
  }
 ],
 "metadata": {
  "kernelspec": {
   "display_name": "DMS-analysis",
   "language": "python",
   "name": "python3"
  },
  "language_info": {
   "codemirror_mode": {
    "name": "ipython",
    "version": 3
   },
   "file_extension": ".py",
   "mimetype": "text/x-python",
   "name": "python",
   "nbconvert_exporter": "python",
   "pygments_lexer": "ipython3",
   "version": "3.10.15"
  }
 },
 "nbformat": 4,
 "nbformat_minor": 2
}
