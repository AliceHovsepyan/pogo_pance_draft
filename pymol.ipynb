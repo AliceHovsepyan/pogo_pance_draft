{
 "cells": [
  {
   "cell_type": "code",
   "execution_count": 3,
   "metadata": {},
   "outputs": [],
   "source": [
    "from Bio import PDB\n",
    "import numpy as np\n",
    "import io\n",
    "import pandas as pd"
   ]
  },
  {
   "cell_type": "code",
   "execution_count": 4,
   "metadata": {},
   "outputs": [],
   "source": [
    "seq_R5 = \"MSEEAQNDPLLPGYSFNAHLVAGLTPIEANGYLDFFIDRPLGMKGYILNLTIRGQGVVKNQGREFVCRPGDILLFPPGEIHHYGRHPEAREWYHQWVYFRPRAYWHEWLNWPSIFANTGFFRPDEAHQPHFSDLFGQIINAGQGEGRYSELLAINLIEQLLLRRMEAINESSGLATTLERIEKNFVITDPRLPDNPIIFASDSFLQLTEYSREEILGRNCRFLQGPETDRATVRKIRDAIDNQTEVTVQLINYTKSGKKFWNLFHLQPMRDQKGDVQYFIGVQLDGTEHVRDAAEREGVMLIKKTAENIDEAAKGSLHPPMDNRVREACQYISDHLADSNFDIASVAQHVCLSPSRLSHLFRQQLGISVLSWREDQRISQAKLLLSTTRMPIATVGHNVGFDDQLYFSRVFKKCTGASPSEFRAGCEEKVNDVAVKLSG\""
   ]
  },
  {
   "cell_type": "code",
   "execution_count": 16,
   "metadata": {},
   "outputs": [],
   "source": [
    "array = pd.read_csv(f\"/home/student/anna/DMS_analysis/output/Nanopore/pymol/total_enrichment_R5_Bcs_Q20_treshold5e-2.csv\", index_col=False, dtype = np.float64)#(\"output/Mut1_coverage.csv\", header=None).values.flatten()\n",
    "\n",
    "## keep all columns that are enriched at least once \n",
    "array = array.sum()\n",
    "array[array > 1] = 1\n",
    "\n",
    "array = np.round(array, 5) * 100"
   ]
  },
  {
   "cell_type": "code",
   "execution_count": 6,
   "metadata": {},
   "outputs": [],
   "source": [
    "def overwrite_b_factors(pdb_str: str, bfactors: np.ndarray) -> str:\n",
    "    \"\"\"From the original AF2 github: Overwrites the B-factors in pdb_str with contents of bfactors array.\"\"\"\n",
    "\n",
    "    parser = PDB.MMCIFParser(QUIET=True)\n",
    "    handle = io.StringIO(pdb_str)\n",
    "    structure = parser.get_structure('', handle)\n",
    "\n",
    "    curr_resid = ('', '', '')\n",
    "    idx = -1\n",
    "    for atom in structure.get_atoms():\n",
    "        atom_resid = atom.parent.get_id()\n",
    "        if atom_resid != curr_resid:\n",
    "            idx += 1\n",
    "            if idx >= bfactors.shape[0]:\n",
    "                raise ValueError('Index into bfactors exceeds number of residues. '\n",
    "                                 'B-factors shape: {shape}, idx: {idx}.')\n",
    "        curr_resid = atom_resid\n",
    "        atom.bfactor = bfactors[idx]\n",
    "\n",
    "    new_pdb = io.StringIO()\n",
    "    pdb_io = PDB.PDBIO()\n",
    "    pdb_io.set_structure(structure)\n",
    "    pdb_io.save(new_pdb)\n",
    "    return new_pdb.getvalue()"
   ]
  },
  {
   "cell_type": "code",
   "execution_count": 21,
   "metadata": {},
   "outputs": [],
   "source": [
    "path = \"/home/student/anna/DMS_analysis/data/pymol/alphafold_arac_s170_lov2_wt_dimer/fold_arac_s170_lov2_wt_dimer_model_0.cif\"#'/Users/annavonbachmann/Downloads/fold_2025_02_05_13_34_my_first_job/fold_2025_02_05_13_34_my_first_job_model_0.cif'"
   ]
  },
  {
   "cell_type": "code",
   "execution_count": 22,
   "metadata": {},
   "outputs": [],
   "source": [
    "with open(path,'r') as f:\n",
    "    pdb_str = f.read()\n",
    "    "
   ]
  },
  {
   "cell_type": "code",
   "execution_count": 23,
   "metadata": {},
   "outputs": [],
   "source": [
    "# parser = PDB.MMCIFParser(QUIET=True)\n",
    "# handle = io.StringIO(pdb_str)\n",
    "# structure = parser.get_structure('', handle)"
   ]
  },
  {
   "cell_type": "code",
   "execution_count": 23,
   "metadata": {},
   "outputs": [],
   "source": [
    "## extend array at the end by array, if dimer\n",
    "array = np.append(array, array)"
   ]
  },
  {
   "cell_type": "code",
   "execution_count": 24,
   "metadata": {},
   "outputs": [],
   "source": [
    "new_pdb_str = overwrite_b_factors(pdb_str,array)"
   ]
  },
  {
   "cell_type": "code",
   "execution_count": 25,
   "metadata": {},
   "outputs": [],
   "source": [
    "with open(\"/home/student/anna/DMS_analysis/data/pymol/alphafold_arac_s170_lov2_wt_dimer/colored_after_Nanopore/fold_arac_s170_lov2_wt_dimer_model_0_colored_after_R5_enriched_regions_min5e-1_combined_barcodes.pdb\", 'w') as f:\n",
    "    f.write(new_pdb_str) #'/Users/annavonbachmann/Downloads/fold_2025_02_05_13_34_my_first_job/fold_2025_02_05_13_34_my_first_job_model_0_Mut1_coverage.pdb'"
   ]
  },
  {
   "cell_type": "markdown",
   "metadata": {},
   "source": [
    "### pymol arguments\n",
    "alignment \n",
    "\n",
    "`align pdbfilename1 filename2`\n",
    "\n",
    "\n",
    "set coloring binary grey, blue\n",
    "\n",
    "`spectrum b, grey blue, minimum=0, maximum=100`\n",
    "\n",
    "`spectrum b, gray70 marine, minimum=0, maximum=100`\n",
    "\n",
    "\n",
    "movie: \n",
    "\n",
    "`mset 1x160` then set and choose the right frame at the bottom"
   ]
  }
 ],
 "metadata": {
  "kernelspec": {
   "display_name": "DMS-analysis",
   "language": "python",
   "name": "python3"
  },
  "language_info": {
   "codemirror_mode": {
    "name": "ipython",
    "version": 3
   },
   "file_extension": ".py",
   "mimetype": "text/x-python",
   "name": "python",
   "nbconvert_exporter": "python",
   "pygments_lexer": "ipython3",
   "version": "3.10.16"
  }
 },
 "nbformat": 4,
 "nbformat_minor": 2
}
