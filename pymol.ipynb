{
 "cells": [
  {
   "cell_type": "code",
   "execution_count": 35,
   "metadata": {},
   "outputs": [],
   "source": [
    "from Bio import PDB\n",
    "import numpy as np\n",
    "import io\n",
    "import pandas as pd"
   ]
  },
  {
   "cell_type": "code",
   "execution_count": 26,
   "metadata": {},
   "outputs": [],
   "source": [
    "seq = \"MSEEAQNDPLLPGYSFNAHLVAGLTPIEANGYLDFFIDRPLGMKGYILNLTIRGQGVVKNQGREFVCRPGDILLFPPGEIHHYGRHPEAREWYHQWVYFRPRAYWHEWLNWPSIFANTGFFRPDEAHQPHFSDLFGQIINAGQGEGRYSELLAINLIEQLLLRRMEAINESSGLATTLERIEKNFVITDPRLPDNPIIFASDSFLQLTEYSREEILGRNCRFLQGPETDRATVRKIRDAIDNQTEVTVQLINYTKSGKKFWNLFHLQPMRDQKGDVQYFIGVQLDGTEHVRDAAEREGVMLIKKTAENIDEAAKGSLHPPMDNRVREACQYISDHLADSNFDIASVAQHVCLSPSRLSHLFRQQLGISVLSWREDQRISQAKLLLSTTRMPIATVGHNVGFDDQLYFSRVFKKCTGASPSEFRAGCEEKVNDVAVKLSG\""
   ]
  },
  {
   "cell_type": "code",
   "execution_count": 27,
   "metadata": {},
   "outputs": [],
   "source": [
    "array = np.random.randint(0, 100, len(seq))"
   ]
  },
  {
   "cell_type": "code",
   "execution_count": 65,
   "metadata": {},
   "outputs": [],
   "source": [
    "array = pd.read_csv(\"output/Mut1_coverage.csv\", header=None).values.flatten()\n",
    "array = np.round(array, 5) * 100"
   ]
  },
  {
   "cell_type": "code",
   "execution_count": 28,
   "metadata": {},
   "outputs": [],
   "source": [
    "def overwrite_b_factors(pdb_str: str, bfactors: np.ndarray) -> str:\n",
    "    \"\"\"From the original AF2 github: Overwrites the B-factors in pdb_str with contents of bfactors array.\"\"\"\n",
    "\n",
    "    parser = PDB.MMCIFParser(QUIET=True)\n",
    "    handle = io.StringIO(pdb_str)\n",
    "    structure = parser.get_structure('', handle)\n",
    "\n",
    "    curr_resid = ('', '', '')\n",
    "    idx = -1\n",
    "    for atom in structure.get_atoms():\n",
    "        atom_resid = atom.parent.get_id()\n",
    "        if atom_resid != curr_resid:\n",
    "            idx += 1\n",
    "            if idx >= bfactors.shape[0]:\n",
    "                raise ValueError('Index into bfactors exceeds number of residues. '\n",
    "                                 'B-factors shape: {shape}, idx: {idx}.')\n",
    "        curr_resid = atom_resid\n",
    "        atom.bfactor = bfactors[idx]\n",
    "\n",
    "    new_pdb = io.StringIO()\n",
    "    pdb_io = PDB.PDBIO()\n",
    "    pdb_io.set_structure(structure)\n",
    "    pdb_io.save(new_pdb)\n",
    "    return new_pdb.getvalue()"
   ]
  },
  {
   "cell_type": "code",
   "execution_count": 66,
   "metadata": {},
   "outputs": [],
   "source": [
    "path = '/Users/annavonbachmann/Downloads/fold_2025_02_05_13_34_my_first_job/fold_2025_02_05_13_34_my_first_job_model_0.cif'"
   ]
  },
  {
   "cell_type": "code",
   "execution_count": 67,
   "metadata": {},
   "outputs": [],
   "source": [
    "with open(path,'r') as f:\n",
    "    pdb_str = f.read()\n",
    "    "
   ]
  },
  {
   "cell_type": "code",
   "execution_count": 23,
   "metadata": {},
   "outputs": [],
   "source": [
    "# parser = PDB.MMCIFParser(QUIET=True)\n",
    "# handle = io.StringIO(pdb_str)\n",
    "# structure = parser.get_structure('', handle)"
   ]
  },
  {
   "cell_type": "code",
   "execution_count": 68,
   "metadata": {},
   "outputs": [],
   "source": [
    "new_pdb_str = overwrite_b_factors(pdb_str, array)"
   ]
  },
  {
   "cell_type": "code",
   "execution_count": 69,
   "metadata": {},
   "outputs": [],
   "source": [
    "with open('/Users/annavonbachmann/Downloads/fold_2025_02_05_13_34_my_first_job/fold_2025_02_05_13_34_my_first_job_model_0_Mut1_coverage.pdb', 'w') as f:\n",
    "    f.write(new_pdb_str)"
   ]
  },
  {
   "cell_type": "code",
   "execution_count": null,
   "metadata": {},
   "outputs": [],
   "source": []
  }
 ],
 "metadata": {
  "kernelspec": {
   "display_name": "DMS-analysis",
   "language": "python",
   "name": "python3"
  },
  "language_info": {
   "codemirror_mode": {
    "name": "ipython",
    "version": 3
   },
   "file_extension": ".py",
   "mimetype": "text/x-python",
   "name": "python",
   "nbconvert_exporter": "python",
   "pygments_lexer": "ipython3",
   "version": "3.10.15"
  }
 },
 "nbformat": 4,
 "nbformat_minor": 2
}
