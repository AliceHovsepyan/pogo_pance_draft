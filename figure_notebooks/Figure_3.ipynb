{
 "cells": [
  {
   "cell_type": "markdown",
   "id": "c9359f48",
   "metadata": {},
   "source": [
    "# Figure 3 — Directed evolution of light-sensitive AraC S170 AsLOV2 variants using Protein On/Off Gene Optimization using PANCE (POGO-PANCE)\n",
    "\n",
    "\n",
    "This notebook reproduces **Figure 3** from the main manuscript.\n",
    "---\n",
    "\n",
    "### Figure Summary\n",
    "\n",
    "<div style=\"text-indent:-2em; padding-left:2em\"><strong>(A)</strong> Overview of POGO-PANCE Evolution of AraC R2 and R5 with S170 LOV inserted</div>  \n",
    "<div style=\"text-indent:-2em; padding-left:2em\"><strong>(B)</strong> Positional enrichment data from nanopore sequencing from the final day of each evolution regime, showing which residues are overrepresented in the phage population as being different from the reference, AraC R2 and R5 s170 LOV</div>  \n",
    "<div style=\"text-indent:-2em; padding-left:2em\"><strong>(C)</strong> Positional enrichment data from nanopore sequencing from one evolution regime over time, showing which residues are overrepresented in the phage population as being different from the reference, AraC R2 s170 LOV. Secondary structure is shown above.</div>  \n",
    "<div style=\"text-indent:-2em; padding-left:2em\"><strong>(D)</strong> Enrichment data from the positive selection days in F mapped onto a 3D Alphafold3 structure of AraC S170 LOV WT</div>"
   ]
  },
  {
   "cell_type": "markdown",
   "id": "9389b62e",
   "metadata": {},
   "source": [
    "## Notebook Setup\n",
    "----------------------------\n",
    "\n",
    "Run the following cell to import all required libraries, define plotting settings, and configure the environment for data analysis and visualization."
   ]
  },
  {
   "cell_type": "code",
   "execution_count": 1,
   "id": "7f01fc11",
   "metadata": {},
   "outputs": [],
   "source": [
    "# --- Import necessary modules ---\n",
    "import os\n",
    "import sys\n",
    "os.chdir(\"..\")\n",
    "import json\n",
    "import pickle as pkl\n",
    "from importlib import reload\n",
    "from pathlib import Path\n",
    "import numpy as np\n",
    "import pandas as pd\n",
    "from scipy import stats\n",
    "import scipy\n",
    "from Bio import SeqIO\n",
    "from Bio.SeqIO import QualityIO\n",
    "from utils import dna_rev_comp, translate_dna2aa\n",
    "from scripts.preprocessing_functions import *\n",
    "from scripts.plotting import *\n",
    "from scripts.Illumina_functions import *\n",
    "import matplotlib.pyplot as plt\n",
    "import matplotlib as mpl\n",
    "import seaborn as sns\n",
    "import matplotlib.cm as cm\n",
    "import matplotlib.patches as mpatches\n",
    "from matplotlib.lines import Line2D\n",
    "import matplotlib.colors as mcolors\n",
    "import matplotlib.gridspec as gridspec\n",
    "from matplotlib.colors import LinearSegmentedColormap\n",
    "\n",
    "# ======================== PLOTTING SETTINGS ========================\n",
    "\n",
    "# --- Custom color map for mutation visualization ---\n",
    "custom_cmap = LinearSegmentedColormap.from_list(\"custom_cmap\", [\n",
    "    \"#22577A\",  # Deep blue\n",
    "    \"#38A3A5\",  # Teal\n",
    "    \"#57CC99\",  # Medium green\n",
    "    \"#80ED99\",  # Bright green\n",
    "    \"#C7F9CC\"   # Light pastel green\n",
    "], N=256)\n",
    "\n",
    "# --- Seaborn theme configuration ---\n",
    "custom_params = {\n",
    "    \"axes.spines.right\": False,\n",
    "    \"axes.spines.top\": False,\n",
    "    \"axes.linewidth\": 1\n",
    "}\n",
    "sns.set_theme(context=\"paper\", style='ticks', palette=\"Greys_r\", rc=custom_params)\n",
    "\n",
    "# --- General matplotlib settings ---\n",
    "fs = 8  # font size\n",
    "plt.rcParams['svg.fonttype'] = 'none'\n",
    "mpl.rcParams.update({\n",
    "    'font.family': 'Avenir Next',\n",
    "    'font.weight': 'demi', \n",
    "    'font.size': fs,\n",
    "    'text.color': '#231F20',\n",
    "    'axes.labelcolor': '#231F20',\n",
    "    'xtick.color': '#231F20',\n",
    "    'ytick.color': '#231F20',\n",
    "    'axes.edgecolor': '#231F20',\n",
    "    'figure.facecolor': 'white',\n",
    "    'axes.facecolor': 'white',\n",
    "    'pdf.fonttype': 42,\n",
    "    'text.usetex': False\n",
    "})\n",
    "sns.set_context(\"paper\", rc={\n",
    "    \"font.size\": fs,\n",
    "    \"axes.titlesize\": fs + 1,\n",
    "    \"axes.labelsize\": fs,\n",
    "    \"axes.linewidth\": 1,\n",
    "    \"xtick.labelsize\": fs,\n",
    "    \"ytick.labelsize\": fs,\n",
    "    \"legend.fontsize\": fs,\n",
    "    \"legend.title_fontsize\": fs + 1\n",
    "})\n",
    "\n",
    "# ======================== LAYOUT PARAMETERS ========================\n",
    "\n",
    "# --- Pre-defined figure dimensions for multi-panel plots ---\n",
    "hi = 10.5 * 0.75\n",
    "wi3 = 2.24\n",
    "wi2 = 4.76\n",
    "wi1 = 7.24\n",
    "nr = 5\n",
    "\n",
    "# --- Utility for shortening sample names ---\n",
    "short_fn = np.vectorize(lambda x: x[:5])"
   ]
  },
  {
   "cell_type": "markdown",
   "id": "3fc52447",
   "metadata": {},
   "source": [
    "## Figure 3A: Overview of POGO-PANCE Evolution of AraC R2 and R5 with S170 LOV inserted\n",
    "----------------------------\n",
    " Summary of AraC-LOV evolution campaigns. Mutagenized phage libraries encoding AraC-R2-LOV or AraC-R5-LOV (characterized in Fig. S4C,D and Fig. S5A,B) were subjected to iterative rounds of positive and negative selection under alternating light and dark conditions. Three selection strategies were tested, each performed in duplicate phage pools. Phage titers for each day of selection are shown in Fig. S5C,D."
   ]
  },
  {
   "cell_type": "markdown",
   "id": "44fcbc5a",
   "metadata": {},
   "source": [
    "![Alt Text](/Volumes/ag-niopek/Niopek_Lab/8_Data/1_Nanopore/DMS_analysis/figure_notebooks/figure_illustrations/Figure_3A.png)"
   ]
  },
  {
   "cell_type": "markdown",
   "id": "9353d25a",
   "metadata": {},
   "source": [
    "## Figure 3B: Positional enrichment data from nanopore sequencing from the final day of each evolution regime, showing which residues are overrepresented in the phage population as being different from the reference, AraC R2 and R5 s170 LOV.\n",
    "----------------------------\n",
    "\n",
    "Endpoint positional enrichment analysis of mutations across evolved variants. Mutation frequencies at each amino acid position in the AraC-LOV sequence were quantified by Nanopore sequencing. Enrichment values are displayed from `0` to `0.25`, with residues exceeding `0.25` shaded in <span style=\"color: yellow\"><b>yellow</b></span>. Position R38 was excluded from the analysis due to consistent systematic errors observed in Nanopore sequencing. Co-occurrence enrichment analysis of individual phage populations is provided in Figure S7.\n",
    "\n",
    "Total mutation enrichment from the Nanopore_P0109 dataset is shown, representing sequencing of final-day samples from various POGO cycle pools.\n",
    "\n",
    "Only positions with a mutation rate `≥10%` in at least one pool are included. \n",
    "\n",
    "The data underlying this visualization was generated from preprocessed reads. Initial processing steps—including quality filtering, alignment, and correction of frame-disrupting indels introduced by Nanopore sequencing errors—were carried out using the scripts `Nanopore_read_filtering.py`, `Nanopore_alignment.py`, and `Nanopore_quality_control.py`. Alternatively, the complete workflow mentioned above can be executed via the shell script `Nanopore_filtering_alignment_processing.sh`, which sequentially integrates all these steps."
   ]
  },
  {
   "cell_type": "code",
   "execution_count": 2,
   "id": "baaf1bdd",
   "metadata": {},
   "outputs": [
    {
     "data": {
      "image/png": "[encoded data removed]",
      "text/plain": [
       "<Figure size 342.72x189 with 10 Axes>"
      ]
     },
     "metadata": {
      "needs_background": "light"
     },
     "output_type": "display_data"
    }
   ],
   "source": [
    "enrichments = {}\n",
    "annots_WT = ['M0', 'S1', 'A2', 'E3', 'A4', 'Q5', 'N6', 'D7', 'P8', 'L9', 'L10', 'P11', 'G12', 'Y13', 'S14', 'F15', 'N16', 'A17', 'H18', 'L19', 'V20', 'A21', 'G22', 'L23', 'T24', 'P25', 'I26', 'E27', 'A28', 'N29', 'G30', 'Y31', 'L32', 'D33', 'F34', 'F35', 'I36', 'D37', 'R38', 'P39', 'L40', 'G41', 'M42', 'K43', 'G44', 'Y45', 'I46', 'L47', 'N48', 'L49', 'T50', 'I51', 'R52', 'G53', 'Q54', 'G55', 'V56', 'V57', 'K58', 'N59', 'Q60', 'G61', 'R62', 'E63', 'F64', 'V65', 'C66', 'R67', 'P68', 'G69', 'D70', 'I71', 'L72', 'L73', 'F74', 'P75', 'P76', 'G77', 'E78', 'I79', 'H80', 'H81', 'Y82', 'G83', 'R84', 'H85', 'P86', 'E87', 'A88', 'R89', 'E90', 'W91', 'Y92', 'H93', 'Q94', 'W95', 'V96', 'Y97', 'F98', 'R99', 'P100', 'R101', 'A102', 'Y103', 'W104', 'H105', 'E106', 'W107', 'L108', 'N109', 'W110', 'P111', 'S112', 'I113', 'F114', 'A115', 'N116', 'T117', 'G118', 'F119', 'F120', 'R121', 'P122', 'D123', 'E124', 'A125', 'H126', 'Q127', 'P128', 'H129', 'F130', 'S131', 'D132', 'L133', 'F134', 'G135', 'Q136', 'I137', 'I138', 'N139', 'A140', 'G141', 'Q142', 'G143', 'E144', 'G145', 'R146', 'Y147', 'S148', 'E149', 'L150', 'L151', 'A152', 'I153', 'N154', 'L155', 'L156', 'E157', 'Q158', 'L159', 'L160', 'L161', 'R162', 'R163', 'M164', 'E165', 'A166', 'I167', 'N168', 'E169', 'S170', 'S1', 'G2', 'L404', 'A405', 'T406', 'T407', 'L408', 'E409', 'R410', 'I411', 'E412', 'K413', 'N414', 'F415', 'V416', 'I417', 'T418', 'D419', 'P420', 'R421', 'L422', 'P423', 'D424', 'N425', 'P426', 'I427', 'I428', 'F429', 'A430', 'S431', 'D432', 'S433', 'F434', 'L435', 'Q436', 'L437', 'T438', 'E439', 'Y440', 'S441', 'R442', 'E443', 'E444', 'I445', 'L446', 'G447', 'R448', 'N449', 'C450', 'R451', 'F452', 'L453', 'Q454', 'G455', 'P456', 'E457', 'T458', 'D459', 'R460', 'A461', 'T462', 'V463', 'R464', 'K465', 'I466', 'R467', 'D468', 'A469', 'I470', 'D471', 'N472', 'Q473', 'T474', 'E475', 'V476', 'T477', 'V478', 'Q479', 'L480', 'I481', 'N482', 'Y483', 'T484', 'K485', 'S486', 'G487', 'K488', 'K489', 'F490', 'W491', 'N492', 'L493', 'F494', 'H495', 'L496', 'Q497', 'P498', 'M499', 'R500', 'D501', 'Q502', 'K503', 'G504', 'D505', 'V506', 'Q507', 'Y508', 'F509', 'I510', 'G511', 'V512', 'Q513', 'L514', 'D515', 'G516', 'T517', 'E518', 'H519', 'V520', 'R521', 'D522', 'A523', 'A524', 'E525', 'R526', 'E527', 'G528', 'V529', 'M530', 'L531', 'I532', 'K533', 'K534', 'T535', 'A536', 'E537', 'N538', 'I539', 'D540', 'E541', 'A542', 'A543', 'K544', 'G3', 'S4', 'L171', 'H172', 'P173', 'P174', 'M175', 'D176', 'N177', 'R178', 'V179', 'R180', 'E181', 'A182', 'C183', 'Q184', 'Y185', 'I186', 'S187', 'D188', 'H189', 'L190', 'A191', 'D192', 'S193', 'N194', 'F195', 'D196', 'I197', 'A198', 'S199', 'V200', 'A201', 'Q202', 'H203', 'V204', 'C205', 'L206', 'S207', 'P208', 'S209', 'R210', 'L211', 'S212', 'H213', 'L214', 'F215', 'R216', 'Q217', 'Q218', 'L219', 'G220', 'I221', 'S222', 'V223', 'L224', 'S225', 'W226', 'R227', 'E228', 'D229', 'Q230', 'R231', 'I232', 'S233', 'Q234', 'A235', 'K236', 'L237', 'L238', 'L239', 'S240', 'T241', 'T242', 'R243', 'M244', 'P245', 'I246', 'A247', 'T248', 'V249', 'G250', 'R251', 'N252', 'V253', 'G254', 'F255', 'D256', 'D257', 'Q258', 'L259', 'Y260', 'F261', 'S262', 'R263', 'V264', 'F265', 'K266', 'K267', 'C268', 'T269', 'G270', 'A271', 'S272', 'P273', 'S274', 'E275', 'F276', 'R277', 'A278', 'G279', 'C280', 'E281', 'E282', 'K283', 'V284', 'N285', 'D286', 'V287', 'A288', 'V289', 'K290', 'L291', 'S292', 'G293','*294']\n",
    "barcodes = [\"barcode01\", \"barcode02\", \"barcode03\" , \"barcode04\", \"barcode05\", \"barcode06\", \"barcode07\", \"barcode08\", \"barcode09\"]\n",
    "data_folder = \"Nanopore_P0109\"\n",
    "quality = 20\n",
    "data_type = 'AA'\n",
    "\n",
    "# --- Load enrichment data for each barcode ---\n",
    "for barcode in barcodes:\n",
    "    araclov2_enr = pd.read_csv(f\"/Volumes/ag-niopek/Niopek_Lab/8_Data/1_Nanopore/DMS_analysis/final_output/{data_folder}/{barcode}/highly_accurate_basecalling/filtered_Q{quality}_maxminlen/enrichment_relative_roi_{data_type}.csv\", index_col = 0)\n",
    "    total_enrichment = araclov2_enr.iloc[:-1,:].sum()\n",
    "    enrichments[barcode] = araclov2_enr\n",
    "\n",
    "# --- Identify positions with high mutation frequency ---\n",
    "mut_rate_filter_treshold = 0.1\n",
    "\n",
    "high_mut_positions = []\n",
    "\n",
    "# --- Load enrichment data for each barcode ---\n",
    "for cyclename, enrichment in enrichments.items():\n",
    "    total_enrichment = enrichment.iloc[:-1,:].sum()\n",
    "    high_mut_pos = [idx for idx, mut_rate in enumerate(total_enrichment) if mut_rate > mut_rate_filter_treshold]\n",
    "    high_mut_positions.extend(high_mut_pos)\n",
    "\n",
    "# --- Clean and annotate list of high-mutation positions ---\n",
    "all_high_mut_positions = list(sorted(set(high_mut_positions))) \n",
    "all_high_mut_positions = [pos for pos in all_high_mut_positions if pos !=38]\n",
    "all_high_mut_annots = [annots_WT[i] for i in all_high_mut_positions]\n",
    "\n",
    "\n",
    "# --- Create heatmap figure layout ---\n",
    "fig, axes = plt.subplots(9, figsize = (wi2,hi/3))\n",
    "fig.subplots_adjust(hspace=0.1)\n",
    "fig.suptitle(\"Final Day: Positional Mutation Frequencies\", fontsize=12, y=0.98)\n",
    "\n",
    "for idx, barcode in enumerate(barcodes): \n",
    "    plot_df = enrichments[barcode].copy()\n",
    "    \n",
    "    plot_df = pd.DataFrame(plot_df.iloc[:-1,:].sum()).T\n",
    "    plot_df = plot_df.iloc[:,all_high_mut_positions]\n",
    "\n",
    "    my_cmap = custom_cmap\n",
    "    my_cmap.set_over('Yellow')\n",
    "    annotations = all_high_mut_annots\n",
    "\n",
    "    sns.heatmap(plot_df, xticklabels=annotations if idx == 8 else False, ax = axes[idx], cmap = my_cmap, vmax=0.25, cbar = False, yticklabels=False, cbar_kws={\"pad\" : 0.02}, linewidths = 0)\n",
    "    yticklabels = [\"P1.1\", \"P1.2\", \"P2.1\", \"P2.2\", \"P3.1\", \"P1.1\", \"P1.2\", \"P2.2\", \"P3.2\"]\n",
    "    axes[idx].set_ylabel(yticklabels[idx], rotation=0, labelpad=10, fontsize=8)\n",
    "\n",
    "    if idx == 8: \n",
    "        axes[idx].set_xlabel(\"Position in reference\")\n",
    "        axes[idx].set_xticklabels(annotations, rotation = 90)   \n",
    "\n",
    "cbar_ax = fig.add_axes([0.13, -0.20, 0.15, 0.02])\n",
    "cbar = fig.colorbar(axes[0].collections[0], cax=cbar_ax, orientation=\"horizontal\")\n",
    "cbar.set_label(\"Mutation Frequency\", fontsize=9, labelpad=4)\n",
    "cbar.ax.xaxis.set_label_position('top')\n",
    "cbar.ax.xaxis.set_ticks_position('bottom')\n",
    "cbar.set_ticks([0.0, 0.125, 0.25])\n",
    "cbar.ax.tick_params(labelsize=8)\n",
    "\n",
    "plt.show()\n",
    "\n",
    "# plt.savefig(f\"final_output/{data_folder}/POGO_end_days_highly_enriched_regions.pdf\", bbox_inches = \"tight\", dpi = 600)\n",
    "# plt.savefig(f\"final_output/{data_folder}/POGO_end_days_highly_enriched_regions.png\", bbox_inches = \"tight\")"
   ]
  },
  {
   "cell_type": "markdown",
   "id": "dfc588de",
   "metadata": {},
   "source": [
    "## Figure 3C: Positional enrichment data from nanopore sequencing from one evolution regime over time, showing which residues are overrepresented in the phage population as being different from the reference, AraC R2 s170 LOV.\n",
    "----------------------------\n",
    "\n",
    " Stepwise mutation enrichment during the R2-LOV P1.2 evolution campaign. Mutation frequencies at each amino acid position in the AraC-LOV sequence were quantified by Nanopore sequencing. Enrichment values are displayed from `0` to `0.25`, with residues exceeding `0.25` shaded in <span style=\"color: yellow\"><b>yellow</b></span>. Secondary structure annotations for AraC S170-AsLOV2 are shown above (derived from InterPro and PSIPRED).\n",
    "\n",
    "Total mutation enrichment from the Nanopore_P0109 dataset is shown, representing sequencing of final-day samples from various POGO cycle pools.\n",
    "\n",
    "\n",
    "The data underlying this visualization was generated from preprocessed reads. Initial processing steps—including quality filtering, alignment, and correction of frame-disrupting indels introduced by Nanopore sequencing errors—were carried out using the scripts `Nanopore_read_filtering.py`, `Nanopore_alignment.py`, and `Nanopore_quality_control.py`. Alternatively, the complete workflow can be executed via the shell script `Nanopore_filtering_alignment_processing.sh`, which sequentially integrates all these steps."
   ]
  },
  {
   "cell_type": "code",
   "execution_count": 3,
   "id": "1a5d1107",
   "metadata": {},
   "outputs": [
    {
     "data": {
      "image/png": "[encoded data removed]",
      "text/plain": [
       "<Figure size 521.28x189 with 10 Axes>"
      ]
     },
     "metadata": {
      "needs_background": "light"
     },
     "output_type": "display_data"
    }
   ],
   "source": [
    "annots_R2 = ['M0', 'S1', 'A2', 'K3', 'A4', 'Q5', 'N6', 'D7', 'P8', 'L9', 'L10', 'P11', 'G12', 'Y13', 'S14', 'F15', 'N16', 'A17', 'H18', 'L19', 'V20', 'A21', 'G22', 'L23', 'T24', 'P25', 'I26', 'E27', 'A28', 'N29', 'G30', 'Y31', 'L32', 'D33', 'F34', 'F35', 'I36', 'D37', 'R38', 'P39', 'L40', 'G41', 'M42', 'K43', 'G44', 'Y45', 'I46', 'L47', 'N48', 'L49', 'T50', 'I51', 'R52', 'G53', 'Q54', 'G55', 'V56', 'V57', 'K58', 'N59', 'Q60', 'G61', 'R62', 'E63', 'F64', 'V65', 'C66', 'R67', 'P68', 'G69', 'D70', 'I71', 'L72', 'L73', 'F74', 'P75', 'P76', 'G77', 'E78', 'I79', 'H80', 'H81', 'Y82', 'G83', 'R84', 'H85', 'P86', 'E87', 'A88', 'R89', 'E90', 'W91', 'Y92', 'H93', 'Q94', 'W95', 'V96', 'Y97', 'F98', 'R99', 'P100', 'R101', 'A102', 'Y103', 'W104', 'H105', 'E106', 'W107', 'L108', 'N109', 'W110', 'P111', 'S112', 'I113', 'F114', 'A115', 'N116', 'T117', 'G118', 'F119', 'F120', 'R121', 'P122', 'D123', 'E124', 'A125', 'H126', 'Q127', 'P128', 'H129', 'F130', 'S131', 'D132', 'L133', 'F134', 'G135', 'Q136', 'I137', 'I138', 'N139', 'A140', 'G141', 'Q142', 'G143', 'E144', 'G145', 'L146', 'Y147', 'S148', 'E149', 'L150', 'L151', 'T152', 'I153', 'N154', 'L155', 'L156', 'E157', 'Q158', 'L159', 'L160', 'L161', 'R162', 'R163', 'M164', 'E165', 'A166', 'I167', 'N168', 'E169', 'S170', 'S1', 'G2', 'L404', 'A405', 'T406', 'T407', 'L408', 'E409', 'R410', 'I411', 'E412', 'K413', 'N414', 'F415', 'V416', 'I417', 'T418', 'D419', 'P420', 'R421', 'L422', 'P423', 'D424', 'N425', 'P426', 'I427', 'I428', 'F429', 'A430', 'S431', 'D432', 'S433', 'F434', 'L435', 'Q436', 'L437', 'T438', 'E439', 'Y440', 'S441', 'R442', 'E443', 'E444', 'I445', 'L446', 'G447', 'R448', 'N449', 'C450', 'R451', 'F452', 'L453', 'Q454', 'G455', 'P456', 'E457', 'T458', 'D459', 'R460', 'A461', 'T462', 'V463', 'R464', 'K465', 'I466', 'R467', 'D468', 'A469', 'I470', 'D471', 'N472', 'Q473', 'T474', 'E475', 'V476', 'T477', 'V478', 'Q479', 'L480', 'I481', 'N482', 'Y483', 'T484', 'K485', 'S486', 'G487', 'K488', 'K489', 'F490', 'W491', 'N492', 'L493', 'F494', 'H495', 'L496', 'Q497', 'P498', 'M499', 'R500', 'D501', 'Q502', 'K503', 'G504', 'D505', 'V506', 'Q507', 'Y508', 'F509', 'I510', 'G511', 'V512', 'Q513', 'L514', 'D515', 'G516', 'T517', 'E518', 'H519', 'V520', 'R521', 'D522', 'A523', 'A524', 'E525', 'R526', 'E527', 'G528', 'V529', 'M530', 'L531', 'I532', 'K533', 'K534', 'T535', 'A536', 'E537', 'N538', 'I539', 'D540', 'E541', 'A542', 'A543', 'K544', 'G3', 'S4', 'L171', 'H172', 'P173', 'P174', 'M175', 'D176', 'N177', 'R178', 'V179', 'R180', 'E181', 'A182', 'C183', 'Q184', 'Y185', 'I186', 'S187', 'D188', 'H189', 'L190', 'A191', 'D192', 'S193', 'N194', 'F195', 'D196', 'I197', 'A198', 'S199', 'V200', 'A201', 'Q202', 'H203', 'V204', 'C205', 'L206', 'S207', 'P208', 'S209', 'R210', 'L211', 'S212', 'H213', 'L214', 'F215', 'R216', 'Q217', 'Q218', 'L219', 'G220', 'I221', 'S222', 'V223', 'L224', 'S225', 'W226', 'R227', 'E228', 'D229', 'Q230', 'R231', 'I232', 'S233', 'Q234', 'A235', 'K236', 'L237', 'L238', 'L239', 'S240', 'T241', 'T242', 'R243', 'M244', 'P245', 'I246', 'A247', 'T248', 'V249', 'G250', 'L251', 'N252', 'V253', 'G254', 'F255', 'D256', 'D257', 'Q258', 'L259', 'Y260', 'F261', 'S262', 'R263', 'V264', 'F265', 'K266', 'K267', 'C268', 'T269', 'G270', 'A271', 'S272', 'P273', 'S274', 'E275', 'F276', 'R277', 'A278', 'G279', 'C280', 'E281', 'E282', 'K283', 'V284', 'N285', 'D286', 'V287', 'A288', 'V289', 'K290', 'L291', 'S292', 'G293','*294']\n",
    "barcodes = [\"barcode01\", \"barcode02\", \"barcode04\", \"barcode05\", \"barcode06\", \"barcode08\", \"barcode09\", \"barcode10\", \"barcode12\"]\n",
    "enrichments = {}\n",
    "data_folder = \"Nanopore_P0115\"\n",
    "\n",
    "annots = annots_R2\n",
    "total_enrichments = pd.DataFrame(index = barcodes, columns = annots)\n",
    "\n",
    "# --- Load enrichment data and compute total enrichment per barcode ---\n",
    "for barcode in barcodes:\n",
    "    araclov2_enr = pd.read_csv(f\"final_output/{data_folder}/{barcode}/highly_accurate_basecalling/filtered_Q{quality}_maxminlen/enrichment_relative_roi_{data_type}.csv\", index_col = 0)\n",
    "    total_enrichment = araclov2_enr.iloc[:-1,:].sum()\n",
    "    total_enrichments.loc[barcode] = total_enrichment\n",
    "    enrichments[barcode] = araclov2_enr\n",
    "\n",
    "# --- Subtract baseline enrichment from barcode01 to remove systematic Nanopore errors ---\n",
    "baseline_enr = enrichments[\"barcode01\"]\n",
    "\n",
    "for key, enrichment_df in enrichments.items(): \n",
    "    enrichments[key] = enrichments[key] - baseline_enr\n",
    "\n",
    "\n",
    "# --- Identify top 5% most variable positions ---\n",
    "vars = total_enrichments.var()\n",
    "quantile_threshold = np.percentile(vars, 95)\n",
    "top_indices = [i for i, var in enumerate(vars) if var >= quantile_threshold]\n",
    "annots_top_var = [annots[i] for i in top_indices]\n",
    "\n",
    "\n",
    "# --- Create subplot layout for heatmaps ---\n",
    "fig, axes = plt.subplots(9, figsize = (wi1,hi/3))\n",
    "fig.subplots_adjust(hspace=0.1)\n",
    "\n",
    "for idx, barcode in enumerate(barcodes): \n",
    "\n",
    "    plot_df = enrichments[barcode].copy()\n",
    "    plot_df = pd.DataFrame(plot_df.iloc[:-1,:].sum()).T\n",
    "    my_cmap = plt.get_cmap(custom_cmap).copy()\n",
    "    my_cmap.set_over('yellow')\n",
    "    annotations = annots_R2 \n",
    "\n",
    "    sns.heatmap(plot_df, xticklabels=annotations if idx  ==8 else False, ax = axes[idx], cmap = my_cmap, vmax=0.25, cbar = False, yticklabels=False, cbar_kws={\"pad\" : 0.02} )\n",
    "\n",
    "    if idx == 8: \n",
    "        axes[idx].set_xlabel(\"Position in reference\")\n",
    "        axes[idx].set_xticks(list(range(0, len(annotations), 10)))\n",
    "        axes[idx].set_xticklabels(annotations[::10])\n",
    "\n",
    "cbar_ax = fig.add_axes([0.13, -0.1, 0.1, 0.02])\n",
    "cbar = fig.colorbar(axes[0].collections[0], cax=cbar_ax, orientation = \"horizontal\")\n",
    "cbar.set_label(\"Mutation rate\")\n",
    "cbar.set_ticks([0.0, 0.25])\n",
    "\n",
    "# plt.savefig(f\"final_output/{data_folder}/POGO_temporal_data_complete_region_bc01substr.pdf\", bbox_inches = \"tight\", dpi = 600)\n",
    "# plt.savefig(f\"final_output/{data_folder}/POGO_temporal_data_complete_region_bc01substr.png\", bbox_inches = \"tight\", dpi = 600)\n",
    "\n",
    "plt.show()"
   ]
  },
  {
   "cell_type": "markdown",
   "id": "cba6ca9c",
   "metadata": {},
   "source": [
    "## Figure 3D: Enrichment data from the positive selection days in F mapped onto a 3D Alphafold3 structure of AraC S170 LOV WT.\n",
    "----------------------------\n",
    "Structural mapping of enriched residues in AraC S170-AsLOV2 during R2-LOV P1.2 evolution. Mutation enrichment after each positive selection cycle is projected onto the protein structure. Pre-existing R2 mutations are marked in blue. Enrichment values are displayed from `0` to `0.10`, with residues exceeding `0.10` shaded in <span style=\"color:#6E1238\"><b>deep burgundy</b></span>. For the final day, two views are shown, rotated 180°, and residues exceeding `0.10` are annotated.\n",
    "\n",
    "To generate this visualization, position-wise enrichment values from the `Nanopore_P0115` dataset were mapped onto the LOV2 domain structure using the script `impose_enrichment_on_pymol.py`, which outputs a PyMOL-compatible .pml file. Final residue coloring was performed in PyMOL.\n",
    "\n",
    "All `.pml` files used to generate these structural views are available in the repository under `scripts/pymol`."
   ]
  },
  {
   "cell_type": "markdown",
   "id": "9bbc56cc",
   "metadata": {},
   "source": [
    "![Alt Text](/Volumes/ag-niopek/Niopek_Lab/8_Data/1_Nanopore/DMS_analysis/figure_notebooks/figure_illustrations/Figure_3D.png)"
   ]
  }
 ],
 "metadata": {
  "kernelspec": {
   "display_name": "base",
   "language": "python",
   "name": "python3"
  },
  "language_info": {
   "codemirror_mode": {
    "name": "ipython",
    "version": 3
   },
   "file_extension": ".py",
   "mimetype": "text/x-python",
   "name": "python",
   "nbconvert_exporter": "python",
   "pygments_lexer": "ipython3",
   "version": "3.9.1"
  }
 },
 "nbformat": 4,
 "nbformat_minor": 5
}
