{
 "cells": [
  {
   "cell_type": "markdown",
   "id": "a1597bac",
   "metadata": {},
   "source": [
    "# Supplemental Figure 6 — Structural mapping of final-day mutation enrichments from additional POGO-PANCE end pools.\n",
    "\n",
    "\n",
    "This notebook reproduces **Figure S6** from the supplemental manuscript.\n",
    "\n",
    "---\n",
    "\n",
    "### Figure Summary\n",
    "\n",
    "<div style=\"text-indent:-2em; padding-left:2em\"><strong>(A + B)</strong> Final Day enrichments of an additional pool mapped onto the 3D structure of an Alphafold3 AraC s170 LOV WT model</div>  "
   ]
  },
  {
   "cell_type": "markdown",
   "id": "ccd675f5",
   "metadata": {},
   "source": [
    "## Figure S6A+B: Enrichment data from the positive selection days in F mapped onto a 3D Alphafold3 structure of AraC S170 LOV WT.\n",
    "----------------------------\n",
    "\n",
    "Final-day enrichment data from the R2-LOV P2.1 (A) and R5-LOV P1.2 (B) pools mapped onto an AlphaFold3-predicted structure of AraC S170-AsLOV2 WT. Enrichment values at each residue are colored on a scale from `0` to `0.25`, with higher values indicating greater mutation frequency following selection and values exceeding `0.25` colored as <span style=\"color:#6E1238\"><b>deep burgundy</b></span> \n",
    "\n",
    "To generate this visualization, position-wise enrichment values from the `Nanopore_P0109` dataset were mapped onto the LOV2 domain structure using the script `impose_enrichment_on_pymol.py`, which outputs a PyMOL-compatible `.pml` file. Final residue coloring was performed in PyMOL.\n",
    "\n",
    "All `.pml` files used to generate these structural views are available in the repository under `scripts/pymol`."
   ]
  },
  {
   "cell_type": "markdown",
   "id": "cc327acd",
   "metadata": {},
   "source": [
    "![Alt Text](/Volumes/ag-niopek/Niopek_Lab/8_Data/1_Nanopore/DMS_analysis/figure_notebooks/figure_illustrations/Figure_S6A.png)"
   ]
  }
 ],
 "metadata": {
  "language_info": {
   "name": "python"
  }
 },
 "nbformat": 4,
 "nbformat_minor": 5
}
